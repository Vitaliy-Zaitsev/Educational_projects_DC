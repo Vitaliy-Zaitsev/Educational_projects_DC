{
 "cells": [
  {
   "cell_type": "markdown",
   "metadata": {},
   "source": [
    "# Защита персональных данных клиентов"
   ]
  },
  {
   "cell_type": "markdown",
   "metadata": {},
   "source": [
    "Вам нужно защитить данные клиентов страховой компании «Хоть потоп». Разработайте такой метод преобразования данных, чтобы по ним было сложно восстановить персональную информацию. Обоснуйте корректность его работы.\n",
    "\n",
    "Нужно защитить данные, чтобы при преобразовании качество моделей машинного обучения не ухудшилось. Подбирать наилучшую модель не требуется."
   ]
  },
  {
   "cell_type": "markdown",
   "metadata": {},
   "source": [
    "## Загрузка данных"
   ]
  },
  {
   "cell_type": "code",
   "execution_count": 1,
   "metadata": {},
   "outputs": [],
   "source": [
    "import pandas as pd\n",
    "import numpy as np\n",
    "from sklearn.linear_model import LinearRegression\n",
    "from sklearn.model_selection import train_test_split\n",
    "from sklearn.metrics import r2_score"
   ]
  },
  {
   "cell_type": "code",
   "execution_count": 2,
   "metadata": {},
   "outputs": [],
   "source": [
    "try:\n",
    "    data = pd.read_csv('insurance.csv')    \n",
    "except:\n",
    "    print('Что-то пошло не так...')"
   ]
  },
  {
   "cell_type": "code",
   "execution_count": 3,
   "metadata": {
    "scrolled": true
   },
   "outputs": [
    {
     "data": {
      "text/html": [
       "<div>\n",
       "<style scoped>\n",
       "    .dataframe tbody tr th:only-of-type {\n",
       "        vertical-align: middle;\n",
       "    }\n",
       "\n",
       "    .dataframe tbody tr th {\n",
       "        vertical-align: top;\n",
       "    }\n",
       "\n",
       "    .dataframe thead th {\n",
       "        text-align: right;\n",
       "    }\n",
       "</style>\n",
       "<table border=\"1\" class=\"dataframe\">\n",
       "  <thead>\n",
       "    <tr style=\"text-align: right;\">\n",
       "      <th></th>\n",
       "      <th>Пол</th>\n",
       "      <th>Возраст</th>\n",
       "      <th>Зарплата</th>\n",
       "      <th>Члены семьи</th>\n",
       "      <th>Страховые выплаты</th>\n",
       "    </tr>\n",
       "  </thead>\n",
       "  <tbody>\n",
       "    <tr>\n",
       "      <th>0</th>\n",
       "      <td>1</td>\n",
       "      <td>41.0</td>\n",
       "      <td>49600.0</td>\n",
       "      <td>1</td>\n",
       "      <td>0</td>\n",
       "    </tr>\n",
       "    <tr>\n",
       "      <th>1</th>\n",
       "      <td>0</td>\n",
       "      <td>46.0</td>\n",
       "      <td>38000.0</td>\n",
       "      <td>1</td>\n",
       "      <td>1</td>\n",
       "    </tr>\n",
       "    <tr>\n",
       "      <th>2</th>\n",
       "      <td>0</td>\n",
       "      <td>29.0</td>\n",
       "      <td>21000.0</td>\n",
       "      <td>0</td>\n",
       "      <td>0</td>\n",
       "    </tr>\n",
       "    <tr>\n",
       "      <th>3</th>\n",
       "      <td>0</td>\n",
       "      <td>21.0</td>\n",
       "      <td>41700.0</td>\n",
       "      <td>2</td>\n",
       "      <td>0</td>\n",
       "    </tr>\n",
       "    <tr>\n",
       "      <th>4</th>\n",
       "      <td>1</td>\n",
       "      <td>28.0</td>\n",
       "      <td>26100.0</td>\n",
       "      <td>0</td>\n",
       "      <td>0</td>\n",
       "    </tr>\n",
       "  </tbody>\n",
       "</table>\n",
       "</div>"
      ],
      "text/plain": [
       "   Пол  Возраст  Зарплата  Члены семьи  Страховые выплаты\n",
       "0    1     41.0   49600.0            1                  0\n",
       "1    0     46.0   38000.0            1                  1\n",
       "2    0     29.0   21000.0            0                  0\n",
       "3    0     21.0   41700.0            2                  0\n",
       "4    1     28.0   26100.0            0                  0"
      ]
     },
     "execution_count": 3,
     "metadata": {},
     "output_type": "execute_result"
    }
   ],
   "source": [
    "data.head()"
   ]
  },
  {
   "cell_type": "code",
   "execution_count": 4,
   "metadata": {},
   "outputs": [
    {
     "name": "stdout",
     "output_type": "stream",
     "text": [
      "<class 'pandas.core.frame.DataFrame'>\n",
      "RangeIndex: 5000 entries, 0 to 4999\n",
      "Data columns (total 5 columns):\n",
      " #   Column             Non-Null Count  Dtype  \n",
      "---  ------             --------------  -----  \n",
      " 0   Пол                5000 non-null   int64  \n",
      " 1   Возраст            5000 non-null   float64\n",
      " 2   Зарплата           5000 non-null   float64\n",
      " 3   Члены семьи        5000 non-null   int64  \n",
      " 4   Страховые выплаты  5000 non-null   int64  \n",
      "dtypes: float64(2), int64(3)\n",
      "memory usage: 195.4 KB\n"
     ]
    }
   ],
   "source": [
    "data.info()"
   ]
  },
  {
   "cell_type": "markdown",
   "metadata": {},
   "source": [
    "В выборке 5000 объектов. Пропусков в данных нет. Тип данных представлен корректно."
   ]
  },
  {
   "cell_type": "markdown",
   "metadata": {},
   "source": [
    "## Умножение матриц"
   ]
  },
  {
   "cell_type": "markdown",
   "metadata": {},
   "source": [
    "Обозначения:\n",
    "\n",
    "- $X$ — матрица признаков (нулевой столбец состоит из единиц)\n",
    "\n",
    "- $y$ — вектор целевого признака\n",
    "\n",
    "- $P$ — матрица, на которую умножаются признаки\n",
    "\n",
    "- $w$ — вектор весов линейной регрессии (нулевой элемент равен сдвигу)"
   ]
  },
  {
   "cell_type": "markdown",
   "metadata": {},
   "source": [
    "Предсказания:\n",
    "\n",
    "$$\n",
    "a = Xw\n",
    "$$\n",
    "\n",
    "Задача обучения:\n",
    "\n",
    "$$\n",
    "w = \\arg\\min_w MSE(Xw, y)\n",
    "$$\n",
    "\n",
    "Формула обучения:\n",
    "\n",
    "$$\n",
    "w = (X^T X)^{-1} X^T y\n",
    "$$"
   ]
  },
  {
   "cell_type": "markdown",
   "metadata": {},
   "source": [
    "**Признаки умножают на обратимую матрицу. Изменится ли качество линейной регрессии?**"
   ]
  },
  {
   "cell_type": "markdown",
   "metadata": {},
   "source": [
    "**Ответ:** Не изменится.\n",
    "\n",
    "**Обоснование:** \\\n",
    "\\\n",
    "Пусть $P$ обратимая матрица, на которую умнажается $X$. Тогда формула для вычисления вектора весов линейной регрессии будет иметь вид:\n",
    "\n",
    "$$\n",
    "w = ((XP)^T (XP))^{-1} (XP)^T y = (P^T X^T (XP))^{-1} (XP)^T y = (P^T (X^T XP))^{-1} (XP)^T y = (X^T X P)^{-1} (P^T)^{-1} P^T X^T y = (X^T X P)^{-1} X^T y = P^{-1} (X^T X)^{-1} X^T y\n",
    "$$\n",
    "\n",
    "Предсказания $a_1$ для $XP$ вычисляются по формуле:\n",
    "\n",
    "$$\n",
    "a_1 = XPw = XP(P^{-1} (X^T X)^{-1} X^T y) = X(PP^{-1})(X^T X)^{-1} X^T y = X E (X^T X)^{-1} X^T y = Xw = a\n",
    "$$\n",
    "\n",
    "\n",
    "Т.к. $a = a_1$ умножение признаков на обратимую матрицу не меняет качество линейной регрессии."
   ]
  },
  {
   "cell_type": "markdown",
   "metadata": {},
   "source": [
    "## Алгоритмы преобразования "
   ]
  },
  {
   "cell_type": "markdown",
   "metadata": {},
   "source": [
    "Предложите алгоритм преобразования данных для решения задачи."
   ]
  },
  {
   "cell_type": "markdown",
   "metadata": {},
   "source": [
    "Умножение матрицы признаков на обратимую матрицу является очень хорошим вариантом решения задачи. Но попробуем исследовать и другие алгоритмы."
   ]
  },
  {
   "cell_type": "markdown",
   "metadata": {},
   "source": [
    "### Алгоритм\n",
    "\n",
    "**Признаки умножаются на действительное число**"
   ]
  },
  {
   "cell_type": "markdown",
   "metadata": {},
   "source": [
    "**Обоснование**\n",
    "\n",
    "Пусть $k$ действительное число, тогда:\n",
    "\n",
    "$$\n",
    "w = ((kX)^T(kX))^{-1} (kX)^T y = (kX^T kX)^{-1} kX^T y = (k^2 X^T X)^{-1} kX^T y = k^{-2}(X^T X)^{-1}kX^T y = k^{-1}(X^TX)^{-1}X^T y\n",
    "$$\n",
    "\n",
    "Предсказания $a_1$ для $kX$ вычисляются по формуле:\n",
    "\n",
    "$$\n",
    "a_1 = kXk^{-1}(X^TX)^{-1}X^Ty = X(X^TX)^{-1}X^Ty = a\n",
    "$$\n",
    "\n",
    "Т.к. $a = a_1$ умножение признаков на действительное число $k$ не меняет качество линейной регрессии."
   ]
  },
  {
   "cell_type": "markdown",
   "metadata": {},
   "source": [
    "### Проверка алгоритма "
   ]
  },
  {
   "cell_type": "markdown",
   "metadata": {},
   "source": [
    "Делим данные на обучающую и валидационную выборки"
   ]
  },
  {
   "cell_type": "code",
   "execution_count": 5,
   "metadata": {},
   "outputs": [],
   "source": [
    "features = data.drop('Страховые выплаты', axis=1)\n",
    "target = data['Страховые выплаты']\n",
    "features_train, features_valid, target_train, target_valid = train_test_split(\n",
    "    features, target, test_size=0.25, random_state=12345)"
   ]
  },
  {
   "cell_type": "markdown",
   "metadata": {},
   "source": [
    "Проверяем качество модели до преобразования"
   ]
  },
  {
   "cell_type": "code",
   "execution_count": 6,
   "metadata": {},
   "outputs": [
    {
     "name": "stdout",
     "output_type": "stream",
     "text": [
      "0.43522757127025646\n"
     ]
    }
   ],
   "source": [
    "model = LinearRegression()\n",
    "model.fit(features_train, target_train)\n",
    "predictions = model.predict(features_valid)\n",
    "print(r2_score(target_valid, predictions))"
   ]
  },
  {
   "cell_type": "markdown",
   "metadata": {},
   "source": [
    "Умножаем признаки обучающей и валидационной выборки на случайное число в диапозоне [0, 1)"
   ]
  },
  {
   "cell_type": "code",
   "execution_count": 7,
   "metadata": {},
   "outputs": [],
   "source": [
    "k = np.random.rand()\n",
    "features_train_k = features_train.values * k\n",
    "features_valid_k = features_valid.values * k"
   ]
  },
  {
   "cell_type": "code",
   "execution_count": 8,
   "metadata": {},
   "outputs": [
    {
     "name": "stdout",
     "output_type": "stream",
     "text": [
      "0.4352275712702719\n"
     ]
    }
   ],
   "source": [
    "model.fit(features_train_k, target_train)\n",
    "predictions = model.predict(features_valid_k)\n",
    "print(r2_score(target_valid, predictions))"
   ]
  },
  {
   "cell_type": "markdown",
   "metadata": {},
   "source": [
    "r2 метрика не изменилась"
   ]
  },
  {
   "cell_type": "markdown",
   "metadata": {},
   "source": [
    "### Алгоритм\n",
    "\n",
    "**К признакам применяется векторная функция**\n",
    "\n",
    "$$\n",
    "f(X) = k(value) + b\n",
    "$$\n",
    "\n",
    "Где $k$ и $b$ любые действительные числа."
   ]
  },
  {
   "cell_type": "markdown",
   "metadata": {},
   "source": [
    "**Обоснование**\\\n",
    "Вектор предсказаний $a$ представляет собой произведение матрицы признаков $X$ на вектор коэффициентов $w$. \n",
    "\n",
    "$$\n",
    "a=(w_0 + x_{11}w_1 + ... + x_{1n}w_n, ... , w_0 + x_{m1}w_1 + ... + x_{mn}w_n)\n",
    "$$\n",
    "\n",
    "Т.е. каждый элемент вектора $a$ представляет собой линейную функцию $n$ переменных $x = (x_1, x_2, x_3, ... , x_n)$, где $x$ это элементы матрицы признаков $X$.\\\n",
    "Метод предсказаний модели основан на свойстве линейных функций: приращение функции пропорционально приращению аргумента. \\\n",
    "Т.о. если удастся доказать, что после применение нашей векторной функции к матрице признаков, элементы вектора $a$ сохранят вид линейных функций, то и качество линейной регрессии не изменится."
   ]
  },
  {
   "cell_type": "markdown",
   "metadata": {},
   "source": [
    "$a$ примет вид\n",
    "\n",
    "$$\n",
    "a=(w_0 + (kx_{11} + b)w_1 + ... + (kx_{1n} + b)w_n, ... , w_0 + (kx_{m1} + b)w_1 + ... + (kx_{mn} + b)w_n)\n",
    "$$\n",
    "\n",
    "$$\n",
    "a=(w_0 + kw_1x_{11} + bw_1 + ... + kw_nx_{1n} + bw_n, ... , w_0 + kw_1x_{m1} + bw_1 + ... + kw_nx_{mn} + bw_n)\n",
    "$$\n",
    "\n",
    "$$\n",
    "a=((w_0 + bw_1 + ... + bw_n)+ kw_1x_{11} +...+ kw_nx_{1n}, ... , (w_0 + bw_1 + ... + bw_n) + kw_1x_{m1} ... + kw_nx_{mn})\n",
    "$$\n",
    "\n",
    "\\\n",
    "\\\n",
    "Т.к. $w_i, b, k \\in \\mathbb{R}$ , пусть $ (w_0 + bw_1 + ... + bw_n)=c_0,  kw_1 = c_1, kw_2 = c_2, ... , kw_n = c_n, c_i \\in \\mathbb{R}$.\\\n",
    "\\\n",
    "Тогда\n",
    "\n",
    "$$\n",
    "a_i = c_0 + x_{i1}c_1 + x_{i2}c_2 + ... + x_{in}c_n\n",
    "$$\n",
    "\n",
    "После преобразования все элементы $a$ сохранили вид линейных функций."
   ]
  },
  {
   "cell_type": "markdown",
   "metadata": {},
   "source": [
    "### Проверка алгоритма "
   ]
  },
  {
   "cell_type": "code",
   "execution_count": 9,
   "metadata": {},
   "outputs": [],
   "source": [
    "def transform(values, k, b):   \n",
    "    return k*values+b"
   ]
  },
  {
   "cell_type": "code",
   "execution_count": 10,
   "metadata": {},
   "outputs": [],
   "source": [
    "k=np.random.rand()\n",
    "b=np.random.rand()"
   ]
  },
  {
   "cell_type": "code",
   "execution_count": 11,
   "metadata": {},
   "outputs": [],
   "source": [
    "features_train_f = transform(features_train.values, k, b)\n",
    "features_valid_f = transform(features_valid.values, k, b)"
   ]
  },
  {
   "cell_type": "code",
   "execution_count": 12,
   "metadata": {},
   "outputs": [
    {
     "name": "stdout",
     "output_type": "stream",
     "text": [
      "0.43522757127027256\n"
     ]
    }
   ],
   "source": [
    "model.fit(features_train_f, target_train)\n",
    "predictions = model.predict(features_valid_f)\n",
    "print(r2_score(target_valid, predictions))"
   ]
  },
  {
   "cell_type": "markdown",
   "metadata": {},
   "source": [
    "Качество линейной регрессии не изменилось."
   ]
  },
  {
   "cell_type": "markdown",
   "metadata": {},
   "source": [
    "### Алгоритм\n",
    "\n",
    "**Умножение матрицы признаков на обратимую матрицу**"
   ]
  },
  {
   "cell_type": "markdown",
   "metadata": {},
   "source": [
    "**Обоснование**\n",
    "\n",
    "Как было доказано выше, данное преобразование не изменит качество линейной регрессии"
   ]
  },
  {
   "cell_type": "markdown",
   "metadata": {},
   "source": [
    "### Проверка алгоритма "
   ]
  },
  {
   "cell_type": "markdown",
   "metadata": {},
   "source": [
    "Создадим случайную матрицу и проверим ее на обратимость"
   ]
  },
  {
   "cell_type": "code",
   "execution_count": 13,
   "metadata": {},
   "outputs": [],
   "source": [
    "k=np.random.normal(size=(4, 4))"
   ]
  },
  {
   "cell_type": "code",
   "execution_count": 14,
   "metadata": {
    "scrolled": true
   },
   "outputs": [
    {
     "data": {
      "text/plain": [
       "array([[ 0.16241751,  0.25517971,  0.04425054,  0.42196078],\n",
       "       [-0.13394521,  0.42407156, -0.15437058,  0.07430148],\n",
       "       [ 0.10871812,  0.50076054,  0.58965904, -0.06871399],\n",
       "       [ 0.48154665,  0.35351769, -0.36087847,  0.1235782 ]])"
      ]
     },
     "execution_count": 14,
     "metadata": {},
     "output_type": "execute_result"
    }
   ],
   "source": [
    "np.linalg.inv(k)"
   ]
  },
  {
   "cell_type": "markdown",
   "metadata": {},
   "source": [
    "Умножим матрицы признаков обучающей и валидационной выборок на обратимую марицу и проверим качество модели"
   ]
  },
  {
   "cell_type": "code",
   "execution_count": 15,
   "metadata": {},
   "outputs": [],
   "source": [
    "features_train_mult = features_train.values @ k\n",
    "features_valid_mult = features_valid.values @ k"
   ]
  },
  {
   "cell_type": "code",
   "execution_count": 16,
   "metadata": {},
   "outputs": [
    {
     "name": "stdout",
     "output_type": "stream",
     "text": [
      "0.4352275712705401\n"
     ]
    }
   ],
   "source": [
    "model.fit(features_train_mult, target_train)\n",
    "predictions = model.predict(features_valid_mult)\n",
    "print(r2_score(target_valid, predictions))"
   ]
  },
  {
   "cell_type": "markdown",
   "metadata": {},
   "source": [
    "Качество линейной регрессии не изменилось"
   ]
  },
  {
   "cell_type": "markdown",
   "metadata": {},
   "source": [
    "## Вывод"
   ]
  },
  {
   "cell_type": "markdown",
   "metadata": {},
   "source": [
    "Было исследовано три алгоритма преобразования:\n",
    "\n",
    "- Признаки умножаются на действительное число\n",
    "- К признакам применяется векторная функция $f(X) = k(value) + b$ , где $k$ и $b$ любые действительные числа.\n",
    "- Умножение матрицы признаков на обратимую матрицу\n",
    "\n",
    "Ни один из перечисленных алгоритмов преобразования данных не меняет качества модели *LinearRegression*.\\\n",
    "Наибольшую защиту персональных данных дает умножение матрицы признаков на обратимую матрицу."
   ]
  }
 ],
 "metadata": {
  "kernelspec": {
   "display_name": "Python 3 (ipykernel)",
   "language": "python",
   "name": "python3"
  },
  "language_info": {
   "codemirror_mode": {
    "name": "ipython",
    "version": 3
   },
   "file_extension": ".py",
   "mimetype": "text/x-python",
   "name": "python",
   "nbconvert_exporter": "python",
   "pygments_lexer": "ipython3",
   "version": "3.10.9"
  },
  "toc": {
   "base_numbering": 1,
   "nav_menu": {},
   "number_sections": true,
   "sideBar": true,
   "skip_h1_title": true,
   "title_cell": "Содержание",
   "title_sidebar": "Contents",
   "toc_cell": true,
   "toc_position": {},
   "toc_section_display": true,
   "toc_window_display": true
  }
 },
 "nbformat": 4,
 "nbformat_minor": 2
}
