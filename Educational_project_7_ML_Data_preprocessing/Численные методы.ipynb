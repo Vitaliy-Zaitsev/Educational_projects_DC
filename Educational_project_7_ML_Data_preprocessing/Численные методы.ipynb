{
 "cells": [
  {
   "cell_type": "markdown",
   "metadata": {},
   "source": [
    "# Определение стоимости автомобилей"
   ]
  },
  {
   "cell_type": "markdown",
   "metadata": {},
   "source": [
    "Сервис по продаже автомобилей с пробегом «Не бит, не крашен» разрабатывает приложение для привлечения новых клиентов. В нём можно быстро узнать рыночную стоимость своего автомобиля. В вашем распоряжении исторические данные: технические характеристики, комплектации и цены автомобилей. Вам нужно построить модель для определения стоимости. \n",
    "\n",
    "Заказчику важны:\n",
    "\n",
    "- качество предсказания;\n",
    "- скорость предсказания;\n",
    "- время обучения."
   ]
  },
  {
   "cell_type": "markdown",
   "metadata": {},
   "source": [
    "## Подготовка данных"
   ]
  },
  {
   "cell_type": "code",
   "execution_count": 143,
   "metadata": {},
   "outputs": [],
   "source": [
    "from catboost import CatBoostRegressor\n",
    "import lightgbm as lgb\n",
    "import matplotlib.pyplot as plt\n",
    "import numpy as np\n",
    "import pandas as pd\n",
    "from sklearn.compose import make_column_transformer\n",
    "from sklearn.dummy import DummyRegressor\n",
    "from sklearn.ensemble import RandomForestRegressor\n",
    "from sklearn.metrics import mean_squared_error\n",
    "from sklearn.model_selection import train_test_split, GridSearchCV, RandomizedSearchCV\n",
    "from sklearn.pipeline import make_pipeline\n",
    "from sklearn.preprocessing import OneHotEncoder, StandardScaler"
   ]
  },
  {
   "cell_type": "code",
   "execution_count": 144,
   "metadata": {},
   "outputs": [],
   "source": [
    "try:\n",
    "    data = pd.read_csv('autos.csv')    \n",
    "except:\n",
    "    print('Что-то пошло не так...')"
   ]
  },
  {
   "cell_type": "code",
   "execution_count": 145,
   "metadata": {},
   "outputs": [
    {
     "data": {
      "text/html": [
       "<div>\n",
       "<style scoped>\n",
       "    .dataframe tbody tr th:only-of-type {\n",
       "        vertical-align: middle;\n",
       "    }\n",
       "\n",
       "    .dataframe tbody tr th {\n",
       "        vertical-align: top;\n",
       "    }\n",
       "\n",
       "    .dataframe thead th {\n",
       "        text-align: right;\n",
       "    }\n",
       "</style>\n",
       "<table border=\"1\" class=\"dataframe\">\n",
       "  <thead>\n",
       "    <tr style=\"text-align: right;\">\n",
       "      <th></th>\n",
       "      <th>DateCrawled</th>\n",
       "      <th>Price</th>\n",
       "      <th>VehicleType</th>\n",
       "      <th>RegistrationYear</th>\n",
       "      <th>Gearbox</th>\n",
       "      <th>Power</th>\n",
       "      <th>Model</th>\n",
       "      <th>Kilometer</th>\n",
       "      <th>RegistrationMonth</th>\n",
       "      <th>FuelType</th>\n",
       "      <th>Brand</th>\n",
       "      <th>Repaired</th>\n",
       "      <th>DateCreated</th>\n",
       "      <th>NumberOfPictures</th>\n",
       "      <th>PostalCode</th>\n",
       "      <th>LastSeen</th>\n",
       "    </tr>\n",
       "  </thead>\n",
       "  <tbody>\n",
       "    <tr>\n",
       "      <th>0</th>\n",
       "      <td>2016-03-24 11:52:17</td>\n",
       "      <td>480</td>\n",
       "      <td>NaN</td>\n",
       "      <td>1993</td>\n",
       "      <td>manual</td>\n",
       "      <td>0</td>\n",
       "      <td>golf</td>\n",
       "      <td>150000</td>\n",
       "      <td>0</td>\n",
       "      <td>petrol</td>\n",
       "      <td>volkswagen</td>\n",
       "      <td>NaN</td>\n",
       "      <td>2016-03-24 00:00:00</td>\n",
       "      <td>0</td>\n",
       "      <td>70435</td>\n",
       "      <td>2016-04-07 03:16:57</td>\n",
       "    </tr>\n",
       "    <tr>\n",
       "      <th>1</th>\n",
       "      <td>2016-03-24 10:58:45</td>\n",
       "      <td>18300</td>\n",
       "      <td>coupe</td>\n",
       "      <td>2011</td>\n",
       "      <td>manual</td>\n",
       "      <td>190</td>\n",
       "      <td>NaN</td>\n",
       "      <td>125000</td>\n",
       "      <td>5</td>\n",
       "      <td>gasoline</td>\n",
       "      <td>audi</td>\n",
       "      <td>yes</td>\n",
       "      <td>2016-03-24 00:00:00</td>\n",
       "      <td>0</td>\n",
       "      <td>66954</td>\n",
       "      <td>2016-04-07 01:46:50</td>\n",
       "    </tr>\n",
       "    <tr>\n",
       "      <th>2</th>\n",
       "      <td>2016-03-14 12:52:21</td>\n",
       "      <td>9800</td>\n",
       "      <td>suv</td>\n",
       "      <td>2004</td>\n",
       "      <td>auto</td>\n",
       "      <td>163</td>\n",
       "      <td>grand</td>\n",
       "      <td>125000</td>\n",
       "      <td>8</td>\n",
       "      <td>gasoline</td>\n",
       "      <td>jeep</td>\n",
       "      <td>NaN</td>\n",
       "      <td>2016-03-14 00:00:00</td>\n",
       "      <td>0</td>\n",
       "      <td>90480</td>\n",
       "      <td>2016-04-05 12:47:46</td>\n",
       "    </tr>\n",
       "    <tr>\n",
       "      <th>3</th>\n",
       "      <td>2016-03-17 16:54:04</td>\n",
       "      <td>1500</td>\n",
       "      <td>small</td>\n",
       "      <td>2001</td>\n",
       "      <td>manual</td>\n",
       "      <td>75</td>\n",
       "      <td>golf</td>\n",
       "      <td>150000</td>\n",
       "      <td>6</td>\n",
       "      <td>petrol</td>\n",
       "      <td>volkswagen</td>\n",
       "      <td>no</td>\n",
       "      <td>2016-03-17 00:00:00</td>\n",
       "      <td>0</td>\n",
       "      <td>91074</td>\n",
       "      <td>2016-03-17 17:40:17</td>\n",
       "    </tr>\n",
       "    <tr>\n",
       "      <th>4</th>\n",
       "      <td>2016-03-31 17:25:20</td>\n",
       "      <td>3600</td>\n",
       "      <td>small</td>\n",
       "      <td>2008</td>\n",
       "      <td>manual</td>\n",
       "      <td>69</td>\n",
       "      <td>fabia</td>\n",
       "      <td>90000</td>\n",
       "      <td>7</td>\n",
       "      <td>gasoline</td>\n",
       "      <td>skoda</td>\n",
       "      <td>no</td>\n",
       "      <td>2016-03-31 00:00:00</td>\n",
       "      <td>0</td>\n",
       "      <td>60437</td>\n",
       "      <td>2016-04-06 10:17:21</td>\n",
       "    </tr>\n",
       "  </tbody>\n",
       "</table>\n",
       "</div>"
      ],
      "text/plain": [
       "           DateCrawled  Price VehicleType  RegistrationYear Gearbox  Power  \\\n",
       "0  2016-03-24 11:52:17    480         NaN              1993  manual      0   \n",
       "1  2016-03-24 10:58:45  18300       coupe              2011  manual    190   \n",
       "2  2016-03-14 12:52:21   9800         suv              2004    auto    163   \n",
       "3  2016-03-17 16:54:04   1500       small              2001  manual     75   \n",
       "4  2016-03-31 17:25:20   3600       small              2008  manual     69   \n",
       "\n",
       "   Model  Kilometer  RegistrationMonth  FuelType       Brand Repaired  \\\n",
       "0   golf     150000                  0    petrol  volkswagen      NaN   \n",
       "1    NaN     125000                  5  gasoline        audi      yes   \n",
       "2  grand     125000                  8  gasoline        jeep      NaN   \n",
       "3   golf     150000                  6    petrol  volkswagen       no   \n",
       "4  fabia      90000                  7  gasoline       skoda       no   \n",
       "\n",
       "           DateCreated  NumberOfPictures  PostalCode             LastSeen  \n",
       "0  2016-03-24 00:00:00                 0       70435  2016-04-07 03:16:57  \n",
       "1  2016-03-24 00:00:00                 0       66954  2016-04-07 01:46:50  \n",
       "2  2016-03-14 00:00:00                 0       90480  2016-04-05 12:47:46  \n",
       "3  2016-03-17 00:00:00                 0       91074  2016-03-17 17:40:17  \n",
       "4  2016-03-31 00:00:00                 0       60437  2016-04-06 10:17:21  "
      ]
     },
     "execution_count": 145,
     "metadata": {},
     "output_type": "execute_result"
    }
   ],
   "source": [
    "data.head()"
   ]
  },
  {
   "cell_type": "code",
   "execution_count": 146,
   "metadata": {},
   "outputs": [
    {
     "name": "stdout",
     "output_type": "stream",
     "text": [
      "<class 'pandas.core.frame.DataFrame'>\n",
      "RangeIndex: 354369 entries, 0 to 354368\n",
      "Data columns (total 16 columns):\n",
      " #   Column             Non-Null Count   Dtype \n",
      "---  ------             --------------   ----- \n",
      " 0   DateCrawled        354369 non-null  object\n",
      " 1   Price              354369 non-null  int64 \n",
      " 2   VehicleType        316879 non-null  object\n",
      " 3   RegistrationYear   354369 non-null  int64 \n",
      " 4   Gearbox            334536 non-null  object\n",
      " 5   Power              354369 non-null  int64 \n",
      " 6   Model              334664 non-null  object\n",
      " 7   Kilometer          354369 non-null  int64 \n",
      " 8   RegistrationMonth  354369 non-null  int64 \n",
      " 9   FuelType           321474 non-null  object\n",
      " 10  Brand              354369 non-null  object\n",
      " 11  Repaired           283215 non-null  object\n",
      " 12  DateCreated        354369 non-null  object\n",
      " 13  NumberOfPictures   354369 non-null  int64 \n",
      " 14  PostalCode         354369 non-null  int64 \n",
      " 15  LastSeen           354369 non-null  object\n",
      "dtypes: int64(7), object(9)\n",
      "memory usage: 43.3+ MB\n"
     ]
    }
   ],
   "source": [
    "data.info()"
   ]
  },
  {
   "cell_type": "markdown",
   "metadata": {},
   "source": [
    "**Вывод:** В предоставленной выборке 354369 строк и 16 столбцов. Все столбцы содержащие числовые данные имеют тип int64. Столбцы с датами представлены в виде строк. Данных для анализа и обучения моделей достаточно. "
   ]
  },
  {
   "cell_type": "markdown",
   "metadata": {},
   "source": [
    "### Приведем названия всех столбцов к нижнему регистру"
   ]
  },
  {
   "cell_type": "code",
   "execution_count": 147,
   "metadata": {},
   "outputs": [],
   "source": [
    "data.columns = data.columns.str.lower()"
   ]
  },
  {
   "cell_type": "code",
   "execution_count": 148,
   "metadata": {},
   "outputs": [],
   "source": [
    "data = data.rename(columns={\n",
    "    'vehicletype': 'vehicle_type',\n",
    "    'registrationyear': 'registration_year',\n",
    "    'registrationmonth' : 'registration_month',\n",
    "    'fueltype' : 'fuel_type',\n",
    "    'datecreated' : 'date_created',\n",
    "    'numberofpictures' : 'number_of_pictures',\n",
    "    'postalcode' : 'postal_code',\n",
    "    'datecrawled' : 'date_crawled',\n",
    "    'datecreated' : 'date_created',\n",
    "    'lastseen' : 'last_seen'})"
   ]
  },
  {
   "cell_type": "code",
   "execution_count": 149,
   "metadata": {},
   "outputs": [
    {
     "name": "stdout",
     "output_type": "stream",
     "text": [
      "<class 'pandas.core.frame.DataFrame'>\n",
      "RangeIndex: 354369 entries, 0 to 354368\n",
      "Data columns (total 16 columns):\n",
      " #   Column              Non-Null Count   Dtype \n",
      "---  ------              --------------   ----- \n",
      " 0   date_crawled        354369 non-null  object\n",
      " 1   price               354369 non-null  int64 \n",
      " 2   vehicle_type        316879 non-null  object\n",
      " 3   registration_year   354369 non-null  int64 \n",
      " 4   gearbox             334536 non-null  object\n",
      " 5   power               354369 non-null  int64 \n",
      " 6   model               334664 non-null  object\n",
      " 7   kilometer           354369 non-null  int64 \n",
      " 8   registration_month  354369 non-null  int64 \n",
      " 9   fuel_type           321474 non-null  object\n",
      " 10  brand               354369 non-null  object\n",
      " 11  repaired            283215 non-null  object\n",
      " 12  date_created        354369 non-null  object\n",
      " 13  number_of_pictures  354369 non-null  int64 \n",
      " 14  postal_code         354369 non-null  int64 \n",
      " 15  last_seen           354369 non-null  object\n",
      "dtypes: int64(7), object(9)\n",
      "memory usage: 43.3+ MB\n"
     ]
    }
   ],
   "source": [
    "data.info()"
   ]
  },
  {
   "cell_type": "markdown",
   "metadata": {},
   "source": [
    "### Удаляем неинформативные столбцы."
   ]
  },
  {
   "cell_type": "code",
   "execution_count": 150,
   "metadata": {},
   "outputs": [],
   "source": [
    "data = data.drop(columns = ['date_crawled', 'last_seen', 'number_of_pictures'], axis = 1)"
   ]
  },
  {
   "cell_type": "markdown",
   "metadata": {},
   "source": [
    "### Изучим пропуски"
   ]
  },
  {
   "cell_type": "code",
   "execution_count": 151,
   "metadata": {},
   "outputs": [],
   "source": [
    "def pass_value_barh(df):\n",
    "    try:\n",
    "        (\n",
    "            (df.isna().mean()*100)\n",
    "            .to_frame()\n",
    "            .rename(columns = {0:'space'})\n",
    "            .query('space > 0')\n",
    "            .sort_values(by = 'space', ascending = True)\n",
    "            .plot(kind = 'barh', figsize = (19,2), legend = False, fontsize = 16)\n",
    "            .set_title('Количество пропусков в столбцах, %' + \"\\n\", fontsize = 22, color = 'SteelBlue')    \n",
    "        );    \n",
    "    except:\n",
    "        print('пропусков не осталось :) ')"
   ]
  },
  {
   "cell_type": "code",
   "execution_count": 152,
   "metadata": {},
   "outputs": [
    {
     "data": {
      "image/png": "[encoded data removed]",
      "text/plain": [
       "<Figure size 1900x200 with 1 Axes>"
      ]
     },
     "metadata": {},
     "output_type": "display_data"
    }
   ],
   "source": [
    "pass_value_barh(data)"
   ]
  },
  {
   "cell_type": "markdown",
   "metadata": {},
   "source": [
    "В 20% анкет не указано, была ли машина в ремонте и модель авто. Введем третью категорию \"unknown\" и заменим на нее пропуски в столбце repaired и model"
   ]
  },
  {
   "cell_type": "code",
   "execution_count": 153,
   "metadata": {},
   "outputs": [],
   "source": [
    "data.repaired = data.repaired.fillna('unknown')"
   ]
  },
  {
   "cell_type": "code",
   "execution_count": 154,
   "metadata": {},
   "outputs": [],
   "source": [
    "data.model = data.model.fillna('unknown')"
   ]
  },
  {
   "cell_type": "markdown",
   "metadata": {},
   "source": [
    "В 10% анкет не указан тип кузова. Заменим эти пропуски на самые популярные варианты из анкет с автомобилями аналогичного бренда и модели."
   ]
  },
  {
   "cell_type": "code",
   "execution_count": 155,
   "metadata": {},
   "outputs": [],
   "source": [
    "data['vehicle_type'] = data.groupby(['brand', 'model'])['vehicle_type'].transform((\n",
    "    lambda x: x.fillna(x.mode()[0] if x.count() != 0 else \"unknown\")))"
   ]
  },
  {
   "cell_type": "code",
   "execution_count": 157,
   "metadata": {
    "scrolled": true
   },
   "outputs": [
    {
     "data": {
      "image/png": "[encoded data removed]",
      "text/plain": [
       "<Figure size 1900x200 with 1 Axes>"
      ]
     },
     "metadata": {},
     "output_type": "display_data"
    }
   ],
   "source": [
    "pass_value_barh(data)"
   ]
  },
  {
   "cell_type": "markdown",
   "metadata": {},
   "source": [
    "Поступим также с пропусками в столбцах fuel_type и gearbox:"
   ]
  },
  {
   "cell_type": "code",
   "execution_count": 158,
   "metadata": {},
   "outputs": [],
   "source": [
    "data['fuel_type'] = data.groupby(['brand', 'model'])['fuel_type'].transform((\n",
    "    lambda x: x.fillna(x.mode()[0] if x.count() != 0 else \"unknown\")))"
   ]
  },
  {
   "cell_type": "code",
   "execution_count": 160,
   "metadata": {
    "scrolled": false
   },
   "outputs": [
    {
     "data": {
      "image/png": "[encoded data removed]",
      "text/plain": [
       "<Figure size 1900x200 with 1 Axes>"
      ]
     },
     "metadata": {},
     "output_type": "display_data"
    }
   ],
   "source": [
    "pass_value_barh(data)"
   ]
  },
  {
   "cell_type": "code",
   "execution_count": 161,
   "metadata": {},
   "outputs": [],
   "source": [
    "data['gearbox'] = data.groupby(['brand', 'model'])['gearbox'].transform((\n",
    "    lambda x: x.fillna(x.mode()[0] if x.count() != 0 else \"unknown\")))"
   ]
  },
  {
   "cell_type": "code",
   "execution_count": 163,
   "metadata": {},
   "outputs": [
    {
     "data": {
      "text/plain": [
       "0"
      ]
     },
     "execution_count": 163,
     "metadata": {},
     "output_type": "execute_result"
    }
   ],
   "source": [
    "data.isna().sum().sum()"
   ]
  },
  {
   "cell_type": "markdown",
   "metadata": {},
   "source": [
    "### Изучим и удалим аномалии в столбцах"
   ]
  },
  {
   "cell_type": "markdown",
   "metadata": {},
   "source": [
    "#### price"
   ]
  },
  {
   "cell_type": "code",
   "execution_count": 164,
   "metadata": {},
   "outputs": [
    {
     "data": {
      "image/png": "[encoded data removed]",
      "text/plain": [
       "<Figure size 1500x200 with 1 Axes>"
      ]
     },
     "metadata": {},
     "output_type": "display_data"
    },
    {
     "data": {
      "image/png": "[encoded data removed]",
      "text/plain": [
       "<Figure size 1500x300 with 1 Axes>"
      ]
     },
     "metadata": {},
     "output_type": "display_data"
    }
   ],
   "source": [
    "fig, ax = plt.subplots(figsize = (15,2))\n",
    "ax = data[['price']].boxplot(vert = False, ax =ax)\n",
    "ax.set_title('Диаграмма размаха стоимости авто')\n",
    "plt.show()\n",
    "data['price'].hist(bins = 150, figsize = (15,3));"
   ]
  },
  {
   "cell_type": "code",
   "execution_count": 165,
   "metadata": {},
   "outputs": [
    {
     "data": {
      "text/plain": [
       "10772"
      ]
     },
     "execution_count": 165,
     "metadata": {},
     "output_type": "execute_result"
    }
   ],
   "source": [
    "data.query('price==0').shape[0]"
   ]
  },
  {
   "cell_type": "markdown",
   "metadata": {},
   "source": [
    "В 10772 анкетах указана нулевая стоимость авто. Удаляем эти объекты, они снизят точность предсказаний. "
   ]
  },
  {
   "cell_type": "code",
   "execution_count": 166,
   "metadata": {},
   "outputs": [],
   "source": [
    "data = data.query('price!=0')"
   ]
  },
  {
   "cell_type": "code",
   "execution_count": 167,
   "metadata": {},
   "outputs": [
    {
     "data": {
      "text/plain": [
       "(343597, 13)"
      ]
     },
     "execution_count": 167,
     "metadata": {},
     "output_type": "execute_result"
    }
   ],
   "source": [
    "data.shape"
   ]
  },
  {
   "cell_type": "code",
   "execution_count": 168,
   "metadata": {},
   "outputs": [
    {
     "data": {
      "image/png": "[encoded data removed]",
      "text/plain": [
       "<Figure size 1500x200 with 1 Axes>"
      ]
     },
     "metadata": {},
     "output_type": "display_data"
    },
    {
     "data": {
      "image/png": "[encoded data removed]",
      "text/plain": [
       "<Figure size 1500x300 with 1 Axes>"
      ]
     },
     "metadata": {},
     "output_type": "display_data"
    }
   ],
   "source": [
    "fig, ax = plt.subplots(figsize = (15,2))\n",
    "ax = data[['price']].boxplot(vert = False, ax =ax)\n",
    "ax.set_title('Диаграмма размаха стоимости авто')\n",
    "plt.show()\n",
    "data['price'].hist(bins = 150, figsize = (15,3));"
   ]
  },
  {
   "cell_type": "markdown",
   "metadata": {},
   "source": [
    "Остальные значения оставим без изменений."
   ]
  },
  {
   "cell_type": "markdown",
   "metadata": {},
   "source": [
    "#### registration_year"
   ]
  },
  {
   "cell_type": "code",
   "execution_count": 169,
   "metadata": {},
   "outputs": [
    {
     "data": {
      "image/png": "[encoded data removed]",
      "text/plain": [
       "<Figure size 1500x200 with 1 Axes>"
      ]
     },
     "metadata": {},
     "output_type": "display_data"
    },
    {
     "data": {
      "image/png": "[encoded data removed]",
      "text/plain": [
       "<Figure size 1500x300 with 1 Axes>"
      ]
     },
     "metadata": {},
     "output_type": "display_data"
    }
   ],
   "source": [
    "fig, ax = plt.subplots(figsize = (15,2))\n",
    "ax = data[['registration_year']].boxplot(vert = False, ax =ax)\n",
    "ax.set_title('Диаграмма размаха года регистрации авто')\n",
    "plt.show()\n",
    "data['registration_year'].hist(bins = 150, figsize = (15,3));"
   ]
  },
  {
   "cell_type": "markdown",
   "metadata": {},
   "source": [
    "У части объектов указаны нереальные даты. Удалаяем, т.к их количество незначительно."
   ]
  },
  {
   "cell_type": "code",
   "execution_count": 170,
   "metadata": {},
   "outputs": [],
   "source": [
    "data = data.query('1900<=registration_year<=2016')"
   ]
  },
  {
   "cell_type": "code",
   "execution_count": 171,
   "metadata": {},
   "outputs": [
    {
     "data": {
      "text/plain": [
       "(329765, 13)"
      ]
     },
     "execution_count": 171,
     "metadata": {},
     "output_type": "execute_result"
    }
   ],
   "source": [
    "data.shape"
   ]
  },
  {
   "cell_type": "code",
   "execution_count": 172,
   "metadata": {},
   "outputs": [
    {
     "data": {
      "image/png": "[encoded data removed]",
      "text/plain": [
       "<Figure size 1500x200 with 1 Axes>"
      ]
     },
     "metadata": {},
     "output_type": "display_data"
    },
    {
     "data": {
      "image/png": "[encoded data removed]",
      "text/plain": [
       "<Figure size 1500x300 with 1 Axes>"
      ]
     },
     "metadata": {},
     "output_type": "display_data"
    }
   ],
   "source": [
    "fig, ax = plt.subplots(figsize = (15,2))\n",
    "ax = data[['registration_year']].boxplot(vert = False, ax =ax)\n",
    "ax.set_title('Диаграмма размаха года регистрации авто')\n",
    "plt.show()\n",
    "data['registration_year'].hist(bins = 150, figsize = (15,3));"
   ]
  },
  {
   "cell_type": "code",
   "execution_count": 173,
   "metadata": {},
   "outputs": [
    {
     "data": {
      "image/png": "[encoded data removed]",
      "text/plain": [
       "<Figure size 1500x300 with 1 Axes>"
      ]
     },
     "metadata": {},
     "output_type": "display_data"
    }
   ],
   "source": [
    "data.query('registration_year<1980')['registration_year'].hist(bins = 150, figsize = (15,3));"
   ]
  },
  {
   "cell_type": "code",
   "execution_count": 174,
   "metadata": {},
   "outputs": [
    {
     "data": {
      "text/plain": [
       "126"
      ]
     },
     "execution_count": 174,
     "metadata": {},
     "output_type": "execute_result"
    }
   ],
   "source": [
    "data.query('registration_year<1950').shape[0]"
   ]
  },
  {
   "cell_type": "markdown",
   "metadata": {},
   "source": [
    "Удаляем объекты до 1950 года. Их всего 126."
   ]
  },
  {
   "cell_type": "code",
   "execution_count": 175,
   "metadata": {},
   "outputs": [],
   "source": [
    "data = data.query('registration_year>=1950')"
   ]
  },
  {
   "cell_type": "code",
   "execution_count": 176,
   "metadata": {},
   "outputs": [
    {
     "data": {
      "image/png": "[encoded data removed]",
      "text/plain": [
       "<Figure size 1500x200 with 1 Axes>"
      ]
     },
     "metadata": {},
     "output_type": "display_data"
    },
    {
     "data": {
      "image/png": "[encoded data removed]",
      "text/plain": [
       "<Figure size 1500x300 with 1 Axes>"
      ]
     },
     "metadata": {},
     "output_type": "display_data"
    }
   ],
   "source": [
    "fig, ax = plt.subplots(figsize = (15,2))\n",
    "ax = data[['registration_year']].boxplot(vert = False, ax =ax)\n",
    "ax.set_title('Диаграмма размаха года регистрации авто')\n",
    "plt.show()\n",
    "data['registration_year'].hist(bins = 150, figsize = (15,3));"
   ]
  },
  {
   "cell_type": "markdown",
   "metadata": {},
   "source": [
    "#### power"
   ]
  },
  {
   "cell_type": "code",
   "execution_count": 177,
   "metadata": {
    "scrolled": false
   },
   "outputs": [
    {
     "data": {
      "image/png": "[encoded data removed]",
      "text/plain": [
       "<Figure size 1500x200 with 1 Axes>"
      ]
     },
     "metadata": {},
     "output_type": "display_data"
    },
    {
     "data": {
      "image/png": "[encoded data removed]",
      "text/plain": [
       "<Figure size 1500x300 with 1 Axes>"
      ]
     },
     "metadata": {},
     "output_type": "display_data"
    }
   ],
   "source": [
    "fig, ax = plt.subplots(figsize = (15,2))\n",
    "ax = data[['power']].boxplot(vert = False, ax =ax)\n",
    "ax.set_title('Диаграмма размаха мощности авто')\n",
    "plt.show()\n",
    "data['power'].hist(bins = 150, figsize = (15,3));"
   ]
  },
  {
   "cell_type": "code",
   "execution_count": 178,
   "metadata": {},
   "outputs": [
    {
     "data": {
      "text/plain": [
       "(177, 13)"
      ]
     },
     "execution_count": 178,
     "metadata": {},
     "output_type": "execute_result"
    }
   ],
   "source": [
    "data.query('power>=1500').shape"
   ]
  },
  {
   "cell_type": "markdown",
   "metadata": {},
   "source": [
    "Самый мощный серийный автомобиль в мире имеет мощность двигателя 1500 л.с. Сразу удаляем все объекты с мощностью выше, их всего 189."
   ]
  },
  {
   "cell_type": "code",
   "execution_count": 179,
   "metadata": {},
   "outputs": [],
   "source": [
    "data = data.query('power<1500')"
   ]
  },
  {
   "cell_type": "code",
   "execution_count": 180,
   "metadata": {
    "scrolled": false
   },
   "outputs": [
    {
     "data": {
      "image/png": "[encoded data removed]",
      "text/plain": [
       "<Figure size 1500x200 with 1 Axes>"
      ]
     },
     "metadata": {},
     "output_type": "display_data"
    },
    {
     "data": {
      "image/png": "[encoded data removed]",
      "text/plain": [
       "<Figure size 1500x300 with 1 Axes>"
      ]
     },
     "metadata": {},
     "output_type": "display_data"
    }
   ],
   "source": [
    "fig, ax = plt.subplots(figsize = (15,2))\n",
    "ax = data[['power']].boxplot(vert = False, ax =ax)\n",
    "ax.set_title('Диаграмма размаха мощности авто')\n",
    "plt.show()\n",
    "data['power'].hist(bins = 150, figsize = (15,3));"
   ]
  },
  {
   "cell_type": "markdown",
   "metadata": {},
   "source": [
    "Приблизим гистограмму."
   ]
  },
  {
   "cell_type": "code",
   "execution_count": 181,
   "metadata": {},
   "outputs": [
    {
     "data": {
      "image/png": "[encoded data removed]",
      "text/plain": [
       "<Figure size 1500x300 with 1 Axes>"
      ]
     },
     "metadata": {},
     "output_type": "display_data"
    }
   ],
   "source": [
    "data.query('power<400')['power'].hist(bins = 150, figsize = (15,3));"
   ]
  },
  {
   "cell_type": "code",
   "execution_count": 182,
   "metadata": {},
   "outputs": [
    {
     "data": {
      "text/plain": [
       "923"
      ]
     },
     "execution_count": 182,
     "metadata": {},
     "output_type": "execute_result"
    }
   ],
   "source": [
    "data.query('power>350').shape[0]"
   ]
  },
  {
   "cell_type": "markdown",
   "metadata": {},
   "source": [
    "Удаляем объекты с мощность авто выше 350. Их 953."
   ]
  },
  {
   "cell_type": "code",
   "execution_count": 183,
   "metadata": {},
   "outputs": [],
   "source": [
    "data = data.query('power<=350')"
   ]
  },
  {
   "cell_type": "code",
   "execution_count": 184,
   "metadata": {},
   "outputs": [
    {
     "data": {
      "image/png": "[encoded data removed]",
      "text/plain": [
       "<Figure size 1500x200 with 1 Axes>"
      ]
     },
     "metadata": {},
     "output_type": "display_data"
    },
    {
     "data": {
      "image/png": "[encoded data removed]",
      "text/plain": [
       "<Figure size 1500x300 with 1 Axes>"
      ]
     },
     "metadata": {},
     "output_type": "display_data"
    }
   ],
   "source": [
    "fig, ax = plt.subplots(figsize = (15,2))\n",
    "ax = data[['power']].boxplot(vert = False, ax =ax)\n",
    "ax.set_title('Диаграмма размаха мощности авто')\n",
    "plt.show()\n",
    "data['power'].hist(bins = 150, figsize = (15,3));"
   ]
  },
  {
   "cell_type": "code",
   "execution_count": 185,
   "metadata": {},
   "outputs": [
    {
     "data": {
      "text/plain": [
       "32787"
      ]
     },
     "execution_count": 185,
     "metadata": {},
     "output_type": "execute_result"
    }
   ],
   "source": [
    "data.query('power==0').shape[0]"
   ]
  },
  {
   "cell_type": "markdown",
   "metadata": {},
   "source": [
    "У 36180 объектов указана нулевая мощность двигателя. Это может сильно снизить точность моделей. Заменем нули на среднюю мощность автомобилей аналогичного бренда, модели и коробки передач. "
   ]
  },
  {
   "cell_type": "code",
   "execution_count": 186,
   "metadata": {},
   "outputs": [],
   "source": [
    "data.loc[data['power']==0, 'power'] = None #заменим все 0 в power на None для корректного посчета среднего значения"
   ]
  },
  {
   "cell_type": "code",
   "execution_count": 187,
   "metadata": {},
   "outputs": [],
   "source": [
    "#создадим новый столбец со средними значениями power\n",
    "data['1'] = (\n",
    "    data[['brand', 'model', 'gearbox', 'power']]    \n",
    "    .groupby(['brand', 'model', 'gearbox'])\n",
    "    .power\n",
    "    .transform('mean')\n",
    ")"
   ]
  },
  {
   "cell_type": "code",
   "execution_count": 188,
   "metadata": {},
   "outputs": [
    {
     "data": {
      "text/plain": [
       "2"
      ]
     },
     "execution_count": 188,
     "metadata": {},
     "output_type": "execute_result"
    }
   ],
   "source": [
    "#заменим пропуски на соответствующие средние значения \n",
    "data.loc[data['power'].isna(), 'power'] = data.loc[data['power'].isna(), '1']\n",
    "data.power.isna().sum()"
   ]
  },
  {
   "cell_type": "markdown",
   "metadata": {},
   "source": [
    "Остался 21 объект. Это те объявления, для которых мы не смогли в нашей выборке найти аналогичные авто с указанной мощностью двигателя. Удаляем эти объекты и созданный нами столбец."
   ]
  },
  {
   "cell_type": "code",
   "execution_count": 189,
   "metadata": {},
   "outputs": [
    {
     "name": "stdout",
     "output_type": "stream",
     "text": [
      "<class 'pandas.core.frame.DataFrame'>\n",
      "Int64Index: 328537 entries, 0 to 354368\n",
      "Data columns (total 13 columns):\n",
      " #   Column              Non-Null Count   Dtype  \n",
      "---  ------              --------------   -----  \n",
      " 0   price               328537 non-null  int64  \n",
      " 1   vehicle_type        328537 non-null  object \n",
      " 2   registration_year   328537 non-null  int64  \n",
      " 3   gearbox             328537 non-null  object \n",
      " 4   power               328537 non-null  float64\n",
      " 5   model               328537 non-null  object \n",
      " 6   kilometer           328537 non-null  int64  \n",
      " 7   registration_month  328537 non-null  int64  \n",
      " 8   fuel_type           328537 non-null  object \n",
      " 9   brand               328537 non-null  object \n",
      " 10  repaired            328537 non-null  object \n",
      " 11  date_created        328537 non-null  object \n",
      " 12  postal_code         328537 non-null  int64  \n",
      "dtypes: float64(1), int64(5), object(7)\n",
      "memory usage: 35.1+ MB\n"
     ]
    }
   ],
   "source": [
    "data = data.drop('1', axis=1)\n",
    "data = data.dropna()\n",
    "data.info()"
   ]
  },
  {
   "cell_type": "code",
   "execution_count": 190,
   "metadata": {
    "scrolled": false
   },
   "outputs": [
    {
     "data": {
      "image/png": "[encoded data removed]",
      "text/plain": [
       "<Figure size 1500x200 with 1 Axes>"
      ]
     },
     "metadata": {},
     "output_type": "display_data"
    },
    {
     "data": {
      "image/png": "[encoded data removed]",
      "text/plain": [
       "<Figure size 1500x300 with 1 Axes>"
      ]
     },
     "metadata": {},
     "output_type": "display_data"
    }
   ],
   "source": [
    "fig, ax = plt.subplots(figsize = (15,2))\n",
    "ax = data[['power']].boxplot(vert = False, ax =ax)\n",
    "ax.set_title('Диаграмма размаха мощности авто')\n",
    "plt.show()\n",
    "data['power'].hist(bins = 150, figsize = (15,3));"
   ]
  },
  {
   "cell_type": "markdown",
   "metadata": {},
   "source": [
    "#### kilometer"
   ]
  },
  {
   "cell_type": "code",
   "execution_count": 191,
   "metadata": {},
   "outputs": [
    {
     "data": {
      "image/png": "[encoded data removed]",
      "text/plain": [
       "<Figure size 1500x200 with 1 Axes>"
      ]
     },
     "metadata": {},
     "output_type": "display_data"
    },
    {
     "data": {
      "image/png": "[encoded data removed]",
      "text/plain": [
       "<Figure size 1500x300 with 1 Axes>"
      ]
     },
     "metadata": {},
     "output_type": "display_data"
    }
   ],
   "source": [
    "fig, ax = plt.subplots(figsize = (15,2))\n",
    "ax = data[['kilometer']].boxplot(vert = False, ax =ax)\n",
    "ax.set_title('Диаграмма размаха пробега авто')\n",
    "plt.show()\n",
    "data['kilometer'].hist(bins = 150, figsize = (15,3));"
   ]
  },
  {
   "cell_type": "markdown",
   "metadata": {},
   "source": [
    "В основном в нашей выборке автомобили с пробегом от 90 т.км до 150 тыс.км. "
   ]
  },
  {
   "cell_type": "markdown",
   "metadata": {},
   "source": [
    "#### registration_month"
   ]
  },
  {
   "cell_type": "code",
   "execution_count": 192,
   "metadata": {},
   "outputs": [
    {
     "data": {
      "image/png": "[encoded data removed]",
      "text/plain": [
       "<Figure size 1500x200 with 1 Axes>"
      ]
     },
     "metadata": {},
     "output_type": "display_data"
    },
    {
     "data": {
      "image/png": "[encoded data removed]",
      "text/plain": [
       "<Figure size 1500x300 with 1 Axes>"
      ]
     },
     "metadata": {},
     "output_type": "display_data"
    }
   ],
   "source": [
    "fig, ax = plt.subplots(figsize = (15,2))\n",
    "ax = data[['registration_month']].boxplot(vert = False, ax =ax)\n",
    "ax.set_title('Диаграмма размаха месяца регистрации авто')\n",
    "plt.show()\n",
    "data['registration_month'].hist(bins = 150, figsize = (15,3));"
   ]
  },
  {
   "cell_type": "markdown",
   "metadata": {},
   "source": [
    "registration_month это категориальный признак. Нулевого месяца конечно не существует, но мы рассматриваем это как категорию unknown. Оставим без изменений."
   ]
  },
  {
   "cell_type": "markdown",
   "metadata": {},
   "source": [
    "#### postal_code"
   ]
  },
  {
   "cell_type": "code",
   "execution_count": 193,
   "metadata": {},
   "outputs": [
    {
     "data": {
      "image/png": "[encoded data removed]",
      "text/plain": [
       "<Figure size 1500x200 with 1 Axes>"
      ]
     },
     "metadata": {},
     "output_type": "display_data"
    },
    {
     "data": {
      "image/png": "[encoded data removed]",
      "text/plain": [
       "<Figure size 1500x300 with 1 Axes>"
      ]
     },
     "metadata": {},
     "output_type": "display_data"
    }
   ],
   "source": [
    "fig, ax = plt.subplots(figsize = (15,2))\n",
    "ax = data[['postal_code']].boxplot(vert = False, ax =ax)\n",
    "ax.set_title('Диаграмма размаха почтового индекса пользователя')\n",
    "plt.show()\n",
    "data['postal_code'].hist(bins = 150, figsize = (15,3));"
   ]
  },
  {
   "cell_type": "code",
   "execution_count": 194,
   "metadata": {},
   "outputs": [
    {
     "data": {
      "text/plain": [
       "8133"
      ]
     },
     "execution_count": 194,
     "metadata": {},
     "output_type": "execute_result"
    }
   ],
   "source": [
    "data.postal_code.nunique()"
   ]
  },
  {
   "cell_type": "markdown",
   "metadata": {},
   "source": [
    "Почтовый индекс это категориальный признак. На 340 тыс объектов 8 тыс уникальных значений категориального признака. Это слишком много."
   ]
  },
  {
   "cell_type": "code",
   "execution_count": 195,
   "metadata": {},
   "outputs": [],
   "source": [
    "data = data.drop('postal_code', axis=1)"
   ]
  },
  {
   "cell_type": "markdown",
   "metadata": {},
   "source": [
    "#### date_created"
   ]
  },
  {
   "cell_type": "markdown",
   "metadata": {},
   "source": [
    "Разобьем дату создания объявления на три категориальных признака: день недели, месяц и год."
   ]
  },
  {
   "cell_type": "code",
   "execution_count": 196,
   "metadata": {
    "scrolled": true
   },
   "outputs": [
    {
     "data": {
      "text/plain": [
       "0    2016-03-24 00:00:00\n",
       "1    2016-03-24 00:00:00\n",
       "2    2016-03-14 00:00:00\n",
       "3    2016-03-17 00:00:00\n",
       "4    2016-03-31 00:00:00\n",
       "Name: date_created, dtype: object"
      ]
     },
     "execution_count": 196,
     "metadata": {},
     "output_type": "execute_result"
    }
   ],
   "source": [
    "data['date_created'].head()"
   ]
  },
  {
   "cell_type": "code",
   "execution_count": 197,
   "metadata": {},
   "outputs": [
    {
     "data": {
      "text/plain": [
       "0   2016-03-24\n",
       "1   2016-03-24\n",
       "2   2016-03-14\n",
       "3   2016-03-17\n",
       "4   2016-03-31\n",
       "Name: date_created, dtype: datetime64[ns]"
      ]
     },
     "execution_count": 197,
     "metadata": {},
     "output_type": "execute_result"
    }
   ],
   "source": [
    "data['date_created'] = pd.to_datetime(\n",
    "    data['date_created'],\n",
    "    format='%Y-%m-%d %H:%M:%S'\n",
    ")\n",
    "data['date_created'].head()"
   ]
  },
  {
   "cell_type": "code",
   "execution_count": 198,
   "metadata": {},
   "outputs": [],
   "source": [
    "data['weekday'] = data['date_created'].dt.weekday\n",
    "data['month'] = data['date_created'].dt.month\n",
    "data['year'] = data['date_created'].dt.year"
   ]
  },
  {
   "cell_type": "code",
   "execution_count": 199,
   "metadata": {},
   "outputs": [],
   "source": [
    "data = data.drop('date_created', axis=1)"
   ]
  },
  {
   "cell_type": "code",
   "execution_count": 200,
   "metadata": {},
   "outputs": [
    {
     "data": {
      "image/png": "[encoded data removed]",
      "text/plain": [
       "<Figure size 640x480 with 4 Axes>"
      ]
     },
     "metadata": {},
     "output_type": "display_data"
    }
   ],
   "source": [
    "data[['weekday', 'month', 'year']].hist();"
   ]
  },
  {
   "cell_type": "code",
   "execution_count": 201,
   "metadata": {},
   "outputs": [
    {
     "data": {
      "text/plain": [
       "2016    328511\n",
       "2015        25\n",
       "2014         1\n",
       "Name: year, dtype: int64"
      ]
     },
     "execution_count": 201,
     "metadata": {},
     "output_type": "execute_result"
    }
   ],
   "source": [
    "data.year.value_counts()"
   ]
  },
  {
   "cell_type": "code",
   "execution_count": 202,
   "metadata": {},
   "outputs": [
    {
     "data": {
      "text/plain": [
       "3     275101\n",
       "4      52969\n",
       "2        379\n",
       "1         64\n",
       "11         9\n",
       "12         9\n",
       "9          3\n",
       "8          2\n",
       "6          1\n",
       "Name: month, dtype: int64"
      ]
     },
     "execution_count": 202,
     "metadata": {},
     "output_type": "execute_result"
    }
   ],
   "source": [
    "data.month.value_counts()"
   ]
  },
  {
   "cell_type": "code",
   "execution_count": 203,
   "metadata": {},
   "outputs": [],
   "source": [
    "data = data.drop(['month', 'year'], axis=1)"
   ]
  },
  {
   "cell_type": "markdown",
   "metadata": {},
   "source": [
    "Изменим тип данных в столбце power, чтобы уменьшить количество категорий."
   ]
  },
  {
   "cell_type": "code",
   "execution_count": 204,
   "metadata": {},
   "outputs": [
    {
     "data": {
      "text/plain": [
       "0    101\n",
       "1    190\n",
       "2    163\n",
       "3     75\n",
       "4     69\n",
       "Name: power, dtype: int32"
      ]
     },
     "execution_count": 204,
     "metadata": {},
     "output_type": "execute_result"
    }
   ],
   "source": [
    "data.power = data.power.round(0).astype('int')\n",
    "data.power.head()"
   ]
  },
  {
   "cell_type": "markdown",
   "metadata": {},
   "source": [
    "### Проверим неявные дубликаты в признаках со строковыми значениями"
   ]
  },
  {
   "cell_type": "code",
   "execution_count": 205,
   "metadata": {},
   "outputs": [
    {
     "data": {
      "text/plain": [
       "array(['sedan', 'coupe', 'suv', 'small', 'convertible', 'bus', 'wagon',\n",
       "       'other'], dtype=object)"
      ]
     },
     "execution_count": 205,
     "metadata": {},
     "output_type": "execute_result"
    }
   ],
   "source": [
    "data.vehicle_type.unique()"
   ]
  },
  {
   "cell_type": "code",
   "execution_count": 206,
   "metadata": {},
   "outputs": [
    {
     "data": {
      "text/plain": [
       "array(['manual', 'auto'], dtype=object)"
      ]
     },
     "execution_count": 206,
     "metadata": {},
     "output_type": "execute_result"
    }
   ],
   "source": [
    "data.gearbox.unique()"
   ]
  },
  {
   "cell_type": "code",
   "execution_count": 207,
   "metadata": {},
   "outputs": [
    {
     "data": {
      "text/plain": [
       "['100',\n",
       " '145',\n",
       " '147',\n",
       " '156',\n",
       " '159',\n",
       " '1_reihe',\n",
       " '1er',\n",
       " '200',\n",
       " '2_reihe',\n",
       " '300c',\n",
       " '3_reihe',\n",
       " '3er',\n",
       " '4_reihe',\n",
       " '500',\n",
       " '5_reihe',\n",
       " '5er',\n",
       " '601',\n",
       " '6_reihe',\n",
       " '6er',\n",
       " '7er',\n",
       " '80',\n",
       " '850',\n",
       " '90',\n",
       " '900',\n",
       " '9000',\n",
       " '911',\n",
       " 'a1',\n",
       " 'a2',\n",
       " 'a3',\n",
       " 'a4',\n",
       " 'a5',\n",
       " 'a6',\n",
       " 'a8',\n",
       " 'a_klasse',\n",
       " 'accord',\n",
       " 'agila',\n",
       " 'alhambra',\n",
       " 'almera',\n",
       " 'altea',\n",
       " 'amarok',\n",
       " 'antara',\n",
       " 'arosa',\n",
       " 'astra',\n",
       " 'auris',\n",
       " 'avensis',\n",
       " 'aveo',\n",
       " 'aygo',\n",
       " 'b_klasse',\n",
       " 'b_max',\n",
       " 'beetle',\n",
       " 'berlingo',\n",
       " 'bora',\n",
       " 'boxster',\n",
       " 'bravo',\n",
       " 'c1',\n",
       " 'c2',\n",
       " 'c3',\n",
       " 'c4',\n",
       " 'c5',\n",
       " 'c_klasse',\n",
       " 'c_max',\n",
       " 'c_reihe',\n",
       " 'caddy',\n",
       " 'calibra',\n",
       " 'captiva',\n",
       " 'carisma',\n",
       " 'carnival',\n",
       " 'cayenne',\n",
       " 'cc',\n",
       " 'ceed',\n",
       " 'charade',\n",
       " 'cherokee',\n",
       " 'citigo',\n",
       " 'civic',\n",
       " 'cl',\n",
       " 'clio',\n",
       " 'clk',\n",
       " 'clubman',\n",
       " 'colt',\n",
       " 'combo',\n",
       " 'cooper',\n",
       " 'cordoba',\n",
       " 'corolla',\n",
       " 'corsa',\n",
       " 'cr_reihe',\n",
       " 'croma',\n",
       " 'crossfire',\n",
       " 'cuore',\n",
       " 'cx_reihe',\n",
       " 'defender',\n",
       " 'delta',\n",
       " 'discovery',\n",
       " 'doblo',\n",
       " 'ducato',\n",
       " 'duster',\n",
       " 'e_klasse',\n",
       " 'elefantino',\n",
       " 'eos',\n",
       " 'escort',\n",
       " 'espace',\n",
       " 'exeo',\n",
       " 'fabia',\n",
       " 'fiesta',\n",
       " 'focus',\n",
       " 'forester',\n",
       " 'forfour',\n",
       " 'fortwo',\n",
       " 'fox',\n",
       " 'freelander',\n",
       " 'fusion',\n",
       " 'g_klasse',\n",
       " 'galant',\n",
       " 'galaxy',\n",
       " 'getz',\n",
       " 'gl',\n",
       " 'glk',\n",
       " 'golf',\n",
       " 'grand',\n",
       " 'i3',\n",
       " 'i_reihe',\n",
       " 'ibiza',\n",
       " 'impreza',\n",
       " 'insignia',\n",
       " 'jazz',\n",
       " 'jetta',\n",
       " 'jimny',\n",
       " 'juke',\n",
       " 'justy',\n",
       " 'ka',\n",
       " 'kadett',\n",
       " 'kaefer',\n",
       " 'kalina',\n",
       " 'kalos',\n",
       " 'kangoo',\n",
       " 'kappa',\n",
       " 'kuga',\n",
       " 'laguna',\n",
       " 'lancer',\n",
       " 'lanos',\n",
       " 'legacy',\n",
       " 'leon',\n",
       " 'lodgy',\n",
       " 'logan',\n",
       " 'lupo',\n",
       " 'lybra',\n",
       " 'm_klasse',\n",
       " 'm_reihe',\n",
       " 'materia',\n",
       " 'matiz',\n",
       " 'megane',\n",
       " 'meriva',\n",
       " 'micra',\n",
       " 'mii',\n",
       " 'modus',\n",
       " 'mondeo',\n",
       " 'move',\n",
       " 'musa',\n",
       " 'mustang',\n",
       " 'mx_reihe',\n",
       " 'navara',\n",
       " 'niva',\n",
       " 'note',\n",
       " 'nubira',\n",
       " 'octavia',\n",
       " 'omega',\n",
       " 'one',\n",
       " 'other',\n",
       " 'outlander',\n",
       " 'pajero',\n",
       " 'panda',\n",
       " 'passat',\n",
       " 'phaeton',\n",
       " 'picanto',\n",
       " 'polo',\n",
       " 'primera',\n",
       " 'ptcruiser',\n",
       " 'punto',\n",
       " 'q3',\n",
       " 'q5',\n",
       " 'q7',\n",
       " 'qashqai',\n",
       " 'r19',\n",
       " 'range_rover',\n",
       " 'range_rover_evoque',\n",
       " 'range_rover_sport',\n",
       " 'rangerover',\n",
       " 'rav',\n",
       " 'rio',\n",
       " 'roadster',\n",
       " 'roomster',\n",
       " 'rx_reihe',\n",
       " 's60',\n",
       " 's_klasse',\n",
       " 's_max',\n",
       " 's_type',\n",
       " 'samara',\n",
       " 'sandero',\n",
       " 'santa',\n",
       " 'scenic',\n",
       " 'scirocco',\n",
       " 'seicento',\n",
       " 'serie_2',\n",
       " 'serie_3',\n",
       " 'sharan',\n",
       " 'signum',\n",
       " 'sirion',\n",
       " 'sl',\n",
       " 'slk',\n",
       " 'sorento',\n",
       " 'spark',\n",
       " 'spider',\n",
       " 'sportage',\n",
       " 'sprinter',\n",
       " 'stilo',\n",
       " 'superb',\n",
       " 'swift',\n",
       " 'terios',\n",
       " 'tigra',\n",
       " 'tiguan',\n",
       " 'toledo',\n",
       " 'touareg',\n",
       " 'touran',\n",
       " 'transit',\n",
       " 'transporter',\n",
       " 'tt',\n",
       " 'tucson',\n",
       " 'twingo',\n",
       " 'unknown',\n",
       " 'up',\n",
       " 'v40',\n",
       " 'v50',\n",
       " 'v60',\n",
       " 'v70',\n",
       " 'v_klasse',\n",
       " 'vectra',\n",
       " 'verso',\n",
       " 'viano',\n",
       " 'vito',\n",
       " 'vivaro',\n",
       " 'voyager',\n",
       " 'wrangler',\n",
       " 'x_reihe',\n",
       " 'x_trail',\n",
       " 'x_type',\n",
       " 'xc_reihe',\n",
       " 'yaris',\n",
       " 'yeti',\n",
       " 'ypsilon',\n",
       " 'z_reihe',\n",
       " 'zafira']"
      ]
     },
     "execution_count": 207,
     "metadata": {},
     "output_type": "execute_result"
    }
   ],
   "source": [
    "sorted(data.model.unique())"
   ]
  },
  {
   "cell_type": "code",
   "execution_count": 208,
   "metadata": {},
   "outputs": [
    {
     "data": {
      "text/plain": [
       "array(['petrol', 'gasoline', 'lpg', 'other', 'hybrid', 'cng', 'electric'],\n",
       "      dtype=object)"
      ]
     },
     "execution_count": 208,
     "metadata": {},
     "output_type": "execute_result"
    }
   ],
   "source": [
    "data.fuel_type.unique()"
   ]
  },
  {
   "cell_type": "code",
   "execution_count": 209,
   "metadata": {
    "scrolled": true
   },
   "outputs": [
    {
     "data": {
      "text/plain": [
       "['alfa_romeo',\n",
       " 'audi',\n",
       " 'bmw',\n",
       " 'chevrolet',\n",
       " 'chrysler',\n",
       " 'citroen',\n",
       " 'dacia',\n",
       " 'daewoo',\n",
       " 'daihatsu',\n",
       " 'fiat',\n",
       " 'ford',\n",
       " 'honda',\n",
       " 'hyundai',\n",
       " 'jaguar',\n",
       " 'jeep',\n",
       " 'kia',\n",
       " 'lada',\n",
       " 'lancia',\n",
       " 'land_rover',\n",
       " 'mazda',\n",
       " 'mercedes_benz',\n",
       " 'mini',\n",
       " 'mitsubishi',\n",
       " 'nissan',\n",
       " 'opel',\n",
       " 'peugeot',\n",
       " 'porsche',\n",
       " 'renault',\n",
       " 'rover',\n",
       " 'saab',\n",
       " 'seat',\n",
       " 'skoda',\n",
       " 'smart',\n",
       " 'sonstige_autos',\n",
       " 'subaru',\n",
       " 'suzuki',\n",
       " 'toyota',\n",
       " 'trabant',\n",
       " 'volkswagen',\n",
       " 'volvo']"
      ]
     },
     "execution_count": 209,
     "metadata": {},
     "output_type": "execute_result"
    }
   ],
   "source": [
    "sorted(data.brand.unique())"
   ]
  },
  {
   "cell_type": "code",
   "execution_count": 210,
   "metadata": {
    "scrolled": true
   },
   "outputs": [
    {
     "data": {
      "text/plain": [
       "array(['unknown', 'yes', 'no'], dtype=object)"
      ]
     },
     "execution_count": 210,
     "metadata": {},
     "output_type": "execute_result"
    }
   ],
   "source": [
    "data.repaired.unique()"
   ]
  },
  {
   "cell_type": "markdown",
   "metadata": {},
   "source": [
    "Неявных дубликатов в признаках со строковыми значениями нет."
   ]
  },
  {
   "cell_type": "markdown",
   "metadata": {},
   "source": [
    "### Проверим на дубликаты в целом"
   ]
  },
  {
   "cell_type": "code",
   "execution_count": 211,
   "metadata": {},
   "outputs": [
    {
     "data": {
      "text/plain": [
       "13570"
      ]
     },
     "execution_count": 211,
     "metadata": {},
     "output_type": "execute_result"
    }
   ],
   "source": [
    "data.duplicated().sum()"
   ]
  },
  {
   "cell_type": "code",
   "execution_count": 212,
   "metadata": {},
   "outputs": [
    {
     "data": {
      "text/plain": [
       "0"
      ]
     },
     "execution_count": 212,
     "metadata": {},
     "output_type": "execute_result"
    }
   ],
   "source": [
    "data = data.drop_duplicates()\n",
    "data.duplicated().sum()"
   ]
  },
  {
   "cell_type": "markdown",
   "metadata": {},
   "source": [
    "Удалено 11547 явных дубликатов"
   ]
  },
  {
   "cell_type": "markdown",
   "metadata": {},
   "source": [
    "**Вывод:** Удалены неинформативные столбцы 'date_crawled', 'last_seen', 'number_of_pictures'.\\\n",
    "В 5 столбцах были обноружены пропуски в данных.\\\n",
    "В 20% анкет не указано, была ли машина в ремонте. Ввели третью категорию \"unknown\" и заменим на нее пропуски в столбце repaired.\\\n",
    "В 10% анкет не указан тип кузова. Заменили эти пропуски на самые популярные варианты из анкет с автомобилями аналогичного бренда и модели.\\\n",
    "Поступили также с пропусками в столбцах fuel_type и gearbox.\\\n",
    "Оставшиеся пропуски заменили на категорию \"unknown\".\n",
    "\n",
    "В 10772 анкетах указана нулевая стоимость авто. Удалили эти объекты.\\\n",
    "Удалили объекты с даой регистрации авто до 1950года и после 2023.\\\n",
    "Удалили объекты с мощность авто выше 350 л.с. У 36180 объектов была указана нулевая мощность двигателя. Заменили нули на среднюю мощность автомобилей аналогичного бренда, модели и с аналогичной коробкой передач.\\\n",
    "Разбили дату создания объявления на три категориальных признака: день недели, месяц и год.\\\n",
    "Неявных дубликатов в признаках со строковыми значениями нет.\\\n",
    "Удалено 11547 явных дубликатов"
   ]
  },
  {
   "cell_type": "markdown",
   "metadata": {},
   "source": [
    "## Обучение моделей"
   ]
  },
  {
   "cell_type": "markdown",
   "metadata": {},
   "source": [
    "### Подготовим выборку для обучения моделей."
   ]
  },
  {
   "cell_type": "code",
   "execution_count": 213,
   "metadata": {},
   "outputs": [],
   "source": [
    "features = data.drop('price', axis=1)\n",
    "target = data['price']"
   ]
  },
  {
   "cell_type": "code",
   "execution_count": 214,
   "metadata": {},
   "outputs": [],
   "source": [
    "features_train, features_test, target_train, target_test = train_test_split(\n",
    "    features, target, train_size=.6, random_state=12345)"
   ]
  },
  {
   "cell_type": "code",
   "execution_count": 215,
   "metadata": {},
   "outputs": [],
   "source": [
    "features_valid, features_test, target_valid, target_test = train_test_split(\n",
    "    features_test, target_test, train_size=.5, random_state=12345)"
   ]
  },
  {
   "cell_type": "code",
   "execution_count": 216,
   "metadata": {},
   "outputs": [],
   "source": [
    "cat_features = [ 'vehicle_type',\n",
    "                 'registration_year',\n",
    "                 'gearbox',                                \n",
    "                 'model',                                \n",
    "                 'registration_month',\n",
    "                 'fuel_type',\n",
    "                 'brand',\n",
    "                 'repaired',                 \n",
    "                 'weekday']"
   ]
  },
  {
   "cell_type": "code",
   "execution_count": 217,
   "metadata": {},
   "outputs": [],
   "source": [
    "column_trans = make_column_transformer((OneHotEncoder(handle_unknown='ignore', drop='first'),\n",
    "                                        cat_features),\n",
    "                                      (StandardScaler(), ['power', 'kilometer']),\n",
    "                                      remainder='passthrough')"
   ]
  },
  {
   "cell_type": "code",
   "execution_count": 218,
   "metadata": {},
   "outputs": [
    {
     "data": {
      "text/plain": [
       "price                 3687\n",
       "vehicle_type             8\n",
       "registration_year       67\n",
       "gearbox                  2\n",
       "power                  343\n",
       "model                  250\n",
       "kilometer               13\n",
       "registration_month      13\n",
       "fuel_type                7\n",
       "brand                   40\n",
       "repaired                 3\n",
       "weekday                  7\n",
       "dtype: int64"
      ]
     },
     "execution_count": 218,
     "metadata": {},
     "output_type": "execute_result"
    }
   ],
   "source": [
    "data.nunique()"
   ]
  },
  {
   "cell_type": "markdown",
   "metadata": {},
   "source": [
    "### Модель Случайный лес"
   ]
  },
  {
   "cell_type": "code",
   "execution_count": 219,
   "metadata": {},
   "outputs": [
    {
     "name": "stdout",
     "output_type": "stream",
     "text": [
      "CPU times: total: 12.2 s\n",
      "Wall time: 46 s\n"
     ]
    },
    {
     "data": {
      "text/html": [
       "<style>#sk-container-id-15 {color: black;background-color: white;}#sk-container-id-15 pre{padding: 0;}#sk-container-id-15 div.sk-toggleable {background-color: white;}#sk-container-id-15 label.sk-toggleable__label {cursor: pointer;display: block;width: 100%;margin-bottom: 0;padding: 0.3em;box-sizing: border-box;text-align: center;}#sk-container-id-15 label.sk-toggleable__label-arrow:before {content: \"▸\";float: left;margin-right: 0.25em;color: #696969;}#sk-container-id-15 label.sk-toggleable__label-arrow:hover:before {color: black;}#sk-container-id-15 div.sk-estimator:hover label.sk-toggleable__label-arrow:before {color: black;}#sk-container-id-15 div.sk-toggleable__content {max-height: 0;max-width: 0;overflow: hidden;text-align: left;background-color: #f0f8ff;}#sk-container-id-15 div.sk-toggleable__content pre {margin: 0.2em;color: black;border-radius: 0.25em;background-color: #f0f8ff;}#sk-container-id-15 input.sk-toggleable__control:checked~div.sk-toggleable__content {max-height: 200px;max-width: 100%;overflow: auto;}#sk-container-id-15 input.sk-toggleable__control:checked~label.sk-toggleable__label-arrow:before {content: \"▾\";}#sk-container-id-15 div.sk-estimator input.sk-toggleable__control:checked~label.sk-toggleable__label {background-color: #d4ebff;}#sk-container-id-15 div.sk-label input.sk-toggleable__control:checked~label.sk-toggleable__label {background-color: #d4ebff;}#sk-container-id-15 input.sk-hidden--visually {border: 0;clip: rect(1px 1px 1px 1px);clip: rect(1px, 1px, 1px, 1px);height: 1px;margin: -1px;overflow: hidden;padding: 0;position: absolute;width: 1px;}#sk-container-id-15 div.sk-estimator {font-family: monospace;background-color: #f0f8ff;border: 1px dotted black;border-radius: 0.25em;box-sizing: border-box;margin-bottom: 0.5em;}#sk-container-id-15 div.sk-estimator:hover {background-color: #d4ebff;}#sk-container-id-15 div.sk-parallel-item::after {content: \"\";width: 100%;border-bottom: 1px solid gray;flex-grow: 1;}#sk-container-id-15 div.sk-label:hover label.sk-toggleable__label {background-color: #d4ebff;}#sk-container-id-15 div.sk-serial::before {content: \"\";position: absolute;border-left: 1px solid gray;box-sizing: border-box;top: 0;bottom: 0;left: 50%;z-index: 0;}#sk-container-id-15 div.sk-serial {display: flex;flex-direction: column;align-items: center;background-color: white;padding-right: 0.2em;padding-left: 0.2em;position: relative;}#sk-container-id-15 div.sk-item {position: relative;z-index: 1;}#sk-container-id-15 div.sk-parallel {display: flex;align-items: stretch;justify-content: center;background-color: white;position: relative;}#sk-container-id-15 div.sk-item::before, #sk-container-id-15 div.sk-parallel-item::before {content: \"\";position: absolute;border-left: 1px solid gray;box-sizing: border-box;top: 0;bottom: 0;left: 50%;z-index: -1;}#sk-container-id-15 div.sk-parallel-item {display: flex;flex-direction: column;z-index: 1;position: relative;background-color: white;}#sk-container-id-15 div.sk-parallel-item:first-child::after {align-self: flex-end;width: 50%;}#sk-container-id-15 div.sk-parallel-item:last-child::after {align-self: flex-start;width: 50%;}#sk-container-id-15 div.sk-parallel-item:only-child::after {width: 0;}#sk-container-id-15 div.sk-dashed-wrapped {border: 1px dashed gray;margin: 0 0.4em 0.5em 0.4em;box-sizing: border-box;padding-bottom: 0.4em;background-color: white;}#sk-container-id-15 div.sk-label label {font-family: monospace;font-weight: bold;display: inline-block;line-height: 1.2em;}#sk-container-id-15 div.sk-label-container {text-align: center;}#sk-container-id-15 div.sk-container {/* jupyter's `normalize.less` sets `[hidden] { display: none; }` but bootstrap.min.css set `[hidden] { display: none !important; }` so we also need the `!important` here to be able to override the default hidden behavior on the sphinx rendered scikit-learn.org. See: https://github.com/scikit-learn/scikit-learn/issues/21755 */display: inline-block !important;position: relative;}#sk-container-id-15 div.sk-text-repr-fallback {display: none;}</style><div id=\"sk-container-id-15\" class=\"sk-top-container\"><div class=\"sk-text-repr-fallback\"><pre>RandomizedSearchCV(cv=5,\n",
       "                   estimator=Pipeline(steps=[(&#x27;columntransformer&#x27;,\n",
       "                                              ColumnTransformer(remainder=&#x27;passthrough&#x27;,\n",
       "                                                                transformers=[(&#x27;onehotencoder&#x27;,\n",
       "                                                                               OneHotEncoder(drop=&#x27;first&#x27;,\n",
       "                                                                                             handle_unknown=&#x27;ignore&#x27;),\n",
       "                                                                               [&#x27;vehicle_type&#x27;,\n",
       "                                                                                &#x27;registration_year&#x27;,\n",
       "                                                                                &#x27;gearbox&#x27;,\n",
       "                                                                                &#x27;model&#x27;,\n",
       "                                                                                &#x27;registration_month&#x27;,\n",
       "                                                                                &#x27;fuel_type&#x27;,\n",
       "                                                                                &#x27;brand&#x27;,\n",
       "                                                                                &#x27;repaired&#x27;,\n",
       "                                                                                &#x27;weekday&#x27;]),\n",
       "                                                                              (&#x27;standardscaler&#x27;,\n",
       "                                                                               StandardScaler(),\n",
       "                                                                               [&#x27;power&#x27;,\n",
       "                                                                                &#x27;kilometer&#x27;])])),\n",
       "                                             (&#x27;randomforestregressor&#x27;,\n",
       "                                              RandomForestRegressor(n_estimators=10,\n",
       "                                                                    random_state=12345))]),\n",
       "                   n_jobs=-1,\n",
       "                   param_distributions={&#x27;randomforestregressor__max_depth&#x27;: range(2, 8, 2),\n",
       "                                        &#x27;randomforestregressor__min_samples_leaf&#x27;: (1,\n",
       "                                                                                    2,\n",
       "                                                                                    3,\n",
       "                                                                                    4),\n",
       "                                        &#x27;randomforestregressor__min_samples_split&#x27;: (2,\n",
       "                                                                                     3,\n",
       "                                                                                     4)},\n",
       "                   random_state=12345, scoring=&#x27;neg_root_mean_squared_error&#x27;)</pre><b>In a Jupyter environment, please rerun this cell to show the HTML representation or trust the notebook. <br />On GitHub, the HTML representation is unable to render, please try loading this page with nbviewer.org.</b></div><div class=\"sk-container\" hidden><div class=\"sk-item sk-dashed-wrapped\"><div class=\"sk-label-container\"><div class=\"sk-label sk-toggleable\"><input class=\"sk-toggleable__control sk-hidden--visually\" id=\"sk-estimator-id-129\" type=\"checkbox\" ><label for=\"sk-estimator-id-129\" class=\"sk-toggleable__label sk-toggleable__label-arrow\">RandomizedSearchCV</label><div class=\"sk-toggleable__content\"><pre>RandomizedSearchCV(cv=5,\n",
       "                   estimator=Pipeline(steps=[(&#x27;columntransformer&#x27;,\n",
       "                                              ColumnTransformer(remainder=&#x27;passthrough&#x27;,\n",
       "                                                                transformers=[(&#x27;onehotencoder&#x27;,\n",
       "                                                                               OneHotEncoder(drop=&#x27;first&#x27;,\n",
       "                                                                                             handle_unknown=&#x27;ignore&#x27;),\n",
       "                                                                               [&#x27;vehicle_type&#x27;,\n",
       "                                                                                &#x27;registration_year&#x27;,\n",
       "                                                                                &#x27;gearbox&#x27;,\n",
       "                                                                                &#x27;model&#x27;,\n",
       "                                                                                &#x27;registration_month&#x27;,\n",
       "                                                                                &#x27;fuel_type&#x27;,\n",
       "                                                                                &#x27;brand&#x27;,\n",
       "                                                                                &#x27;repaired&#x27;,\n",
       "                                                                                &#x27;weekday&#x27;]),\n",
       "                                                                              (&#x27;standardscaler&#x27;,\n",
       "                                                                               StandardScaler(),\n",
       "                                                                               [&#x27;power&#x27;,\n",
       "                                                                                &#x27;kilometer&#x27;])])),\n",
       "                                             (&#x27;randomforestregressor&#x27;,\n",
       "                                              RandomForestRegressor(n_estimators=10,\n",
       "                                                                    random_state=12345))]),\n",
       "                   n_jobs=-1,\n",
       "                   param_distributions={&#x27;randomforestregressor__max_depth&#x27;: range(2, 8, 2),\n",
       "                                        &#x27;randomforestregressor__min_samples_leaf&#x27;: (1,\n",
       "                                                                                    2,\n",
       "                                                                                    3,\n",
       "                                                                                    4),\n",
       "                                        &#x27;randomforestregressor__min_samples_split&#x27;: (2,\n",
       "                                                                                     3,\n",
       "                                                                                     4)},\n",
       "                   random_state=12345, scoring=&#x27;neg_root_mean_squared_error&#x27;)</pre></div></div></div><div class=\"sk-parallel\"><div class=\"sk-parallel-item\"><div class=\"sk-item\"><div class=\"sk-label-container\"><div class=\"sk-label sk-toggleable\"><input class=\"sk-toggleable__control sk-hidden--visually\" id=\"sk-estimator-id-130\" type=\"checkbox\" ><label for=\"sk-estimator-id-130\" class=\"sk-toggleable__label sk-toggleable__label-arrow\">estimator: Pipeline</label><div class=\"sk-toggleable__content\"><pre>Pipeline(steps=[(&#x27;columntransformer&#x27;,\n",
       "                 ColumnTransformer(remainder=&#x27;passthrough&#x27;,\n",
       "                                   transformers=[(&#x27;onehotencoder&#x27;,\n",
       "                                                  OneHotEncoder(drop=&#x27;first&#x27;,\n",
       "                                                                handle_unknown=&#x27;ignore&#x27;),\n",
       "                                                  [&#x27;vehicle_type&#x27;,\n",
       "                                                   &#x27;registration_year&#x27;,\n",
       "                                                   &#x27;gearbox&#x27;, &#x27;model&#x27;,\n",
       "                                                   &#x27;registration_month&#x27;,\n",
       "                                                   &#x27;fuel_type&#x27;, &#x27;brand&#x27;,\n",
       "                                                   &#x27;repaired&#x27;, &#x27;weekday&#x27;]),\n",
       "                                                 (&#x27;standardscaler&#x27;,\n",
       "                                                  StandardScaler(),\n",
       "                                                  [&#x27;power&#x27;, &#x27;kilometer&#x27;])])),\n",
       "                (&#x27;randomforestregressor&#x27;,\n",
       "                 RandomForestRegressor(n_estimators=10, random_state=12345))])</pre></div></div></div><div class=\"sk-serial\"><div class=\"sk-item\"><div class=\"sk-serial\"><div class=\"sk-item sk-dashed-wrapped\"><div class=\"sk-label-container\"><div class=\"sk-label sk-toggleable\"><input class=\"sk-toggleable__control sk-hidden--visually\" id=\"sk-estimator-id-131\" type=\"checkbox\" ><label for=\"sk-estimator-id-131\" class=\"sk-toggleable__label sk-toggleable__label-arrow\">columntransformer: ColumnTransformer</label><div class=\"sk-toggleable__content\"><pre>ColumnTransformer(remainder=&#x27;passthrough&#x27;,\n",
       "                  transformers=[(&#x27;onehotencoder&#x27;,\n",
       "                                 OneHotEncoder(drop=&#x27;first&#x27;,\n",
       "                                               handle_unknown=&#x27;ignore&#x27;),\n",
       "                                 [&#x27;vehicle_type&#x27;, &#x27;registration_year&#x27;,\n",
       "                                  &#x27;gearbox&#x27;, &#x27;model&#x27;, &#x27;registration_month&#x27;,\n",
       "                                  &#x27;fuel_type&#x27;, &#x27;brand&#x27;, &#x27;repaired&#x27;,\n",
       "                                  &#x27;weekday&#x27;]),\n",
       "                                (&#x27;standardscaler&#x27;, StandardScaler(),\n",
       "                                 [&#x27;power&#x27;, &#x27;kilometer&#x27;])])</pre></div></div></div><div class=\"sk-parallel\"><div class=\"sk-parallel-item\"><div class=\"sk-item\"><div class=\"sk-label-container\"><div class=\"sk-label sk-toggleable\"><input class=\"sk-toggleable__control sk-hidden--visually\" id=\"sk-estimator-id-132\" type=\"checkbox\" ><label for=\"sk-estimator-id-132\" class=\"sk-toggleable__label sk-toggleable__label-arrow\">onehotencoder</label><div class=\"sk-toggleable__content\"><pre>[&#x27;vehicle_type&#x27;, &#x27;registration_year&#x27;, &#x27;gearbox&#x27;, &#x27;model&#x27;, &#x27;registration_month&#x27;, &#x27;fuel_type&#x27;, &#x27;brand&#x27;, &#x27;repaired&#x27;, &#x27;weekday&#x27;]</pre></div></div></div><div class=\"sk-serial\"><div class=\"sk-item\"><div class=\"sk-estimator sk-toggleable\"><input class=\"sk-toggleable__control sk-hidden--visually\" id=\"sk-estimator-id-133\" type=\"checkbox\" ><label for=\"sk-estimator-id-133\" class=\"sk-toggleable__label sk-toggleable__label-arrow\">OneHotEncoder</label><div class=\"sk-toggleable__content\"><pre>OneHotEncoder(drop=&#x27;first&#x27;, handle_unknown=&#x27;ignore&#x27;)</pre></div></div></div></div></div></div><div class=\"sk-parallel-item\"><div class=\"sk-item\"><div class=\"sk-label-container\"><div class=\"sk-label sk-toggleable\"><input class=\"sk-toggleable__control sk-hidden--visually\" id=\"sk-estimator-id-134\" type=\"checkbox\" ><label for=\"sk-estimator-id-134\" class=\"sk-toggleable__label sk-toggleable__label-arrow\">standardscaler</label><div class=\"sk-toggleable__content\"><pre>[&#x27;power&#x27;, &#x27;kilometer&#x27;]</pre></div></div></div><div class=\"sk-serial\"><div class=\"sk-item\"><div class=\"sk-estimator sk-toggleable\"><input class=\"sk-toggleable__control sk-hidden--visually\" id=\"sk-estimator-id-135\" type=\"checkbox\" ><label for=\"sk-estimator-id-135\" class=\"sk-toggleable__label sk-toggleable__label-arrow\">StandardScaler</label><div class=\"sk-toggleable__content\"><pre>StandardScaler()</pre></div></div></div></div></div></div><div class=\"sk-parallel-item\"><div class=\"sk-item\"><div class=\"sk-label-container\"><div class=\"sk-label sk-toggleable\"><input class=\"sk-toggleable__control sk-hidden--visually\" id=\"sk-estimator-id-136\" type=\"checkbox\" ><label for=\"sk-estimator-id-136\" class=\"sk-toggleable__label sk-toggleable__label-arrow\">remainder</label><div class=\"sk-toggleable__content\"><pre></pre></div></div></div><div class=\"sk-serial\"><div class=\"sk-item\"><div class=\"sk-estimator sk-toggleable\"><input class=\"sk-toggleable__control sk-hidden--visually\" id=\"sk-estimator-id-137\" type=\"checkbox\" ><label for=\"sk-estimator-id-137\" class=\"sk-toggleable__label sk-toggleable__label-arrow\">passthrough</label><div class=\"sk-toggleable__content\"><pre>passthrough</pre></div></div></div></div></div></div></div></div><div class=\"sk-item\"><div class=\"sk-estimator sk-toggleable\"><input class=\"sk-toggleable__control sk-hidden--visually\" id=\"sk-estimator-id-138\" type=\"checkbox\" ><label for=\"sk-estimator-id-138\" class=\"sk-toggleable__label sk-toggleable__label-arrow\">RandomForestRegressor</label><div class=\"sk-toggleable__content\"><pre>RandomForestRegressor(n_estimators=10, random_state=12345)</pre></div></div></div></div></div></div></div></div></div></div></div></div>"
      ],
      "text/plain": [
       "RandomizedSearchCV(cv=5,\n",
       "                   estimator=Pipeline(steps=[('columntransformer',\n",
       "                                              ColumnTransformer(remainder='passthrough',\n",
       "                                                                transformers=[('onehotencoder',\n",
       "                                                                               OneHotEncoder(drop='first',\n",
       "                                                                                             handle_unknown='ignore'),\n",
       "                                                                               ['vehicle_type',\n",
       "                                                                                'registration_year',\n",
       "                                                                                'gearbox',\n",
       "                                                                                'model',\n",
       "                                                                                'registration_month',\n",
       "                                                                                'fuel_type',\n",
       "                                                                                'brand',\n",
       "                                                                                'repaired',\n",
       "                                                                                'weekday']),\n",
       "                                                                              ('standardscaler',\n",
       "                                                                               StandardScaler(),\n",
       "                                                                               ['power',\n",
       "                                                                                'kilometer'])])),\n",
       "                                             ('randomforestregressor',\n",
       "                                              RandomForestRegressor(n_estimators=10,\n",
       "                                                                    random_state=12345))]),\n",
       "                   n_jobs=-1,\n",
       "                   param_distributions={'randomforestregressor__max_depth': range(2, 8, 2),\n",
       "                                        'randomforestregressor__min_samples_leaf': (1,\n",
       "                                                                                    2,\n",
       "                                                                                    3,\n",
       "                                                                                    4),\n",
       "                                        'randomforestregressor__min_samples_split': (2,\n",
       "                                                                                     3,\n",
       "                                                                                     4)},\n",
       "                   random_state=12345, scoring='neg_root_mean_squared_error')"
      ]
     },
     "execution_count": 219,
     "metadata": {},
     "output_type": "execute_result"
    }
   ],
   "source": [
    "%%time\n",
    "model_forest = RandomForestRegressor(random_state=12345, n_estimators=10)\n",
    "pipe = make_pipeline(column_trans, model_forest)\n",
    "param_grid = {'randomforestregressor__max_depth': range(2, 8, 2),              \n",
    "              'randomforestregressor__min_samples_split': (2, 3, 4),\n",
    "              'randomforestregressor__min_samples_leaf': (1, 2, 3, 4)\n",
    "             }\n",
    "model_forest_r = RandomizedSearchCV(\n",
    "    pipe,\n",
    "    param_grid,\n",
    "    cv=5,\n",
    "    scoring='neg_root_mean_squared_error',\n",
    "    n_jobs = -1,\n",
    "    random_state=12345)\n",
    "model_forest_r.fit(features_train, target_train)"
   ]
  },
  {
   "cell_type": "code",
   "execution_count": 220,
   "metadata": {},
   "outputs": [
    {
     "name": "stdout",
     "output_type": "stream",
     "text": [
      "{'randomforestregressor__min_samples_split': 3, 'randomforestregressor__min_samples_leaf': 2, 'randomforestregressor__max_depth': 6}\n",
      "-2800.7389800771944\n"
     ]
    }
   ],
   "source": [
    "print(model_forest_r.best_params_)\n",
    "print(model_forest_r.best_score_)"
   ]
  },
  {
   "cell_type": "code",
   "execution_count": 221,
   "metadata": {},
   "outputs": [
    {
     "name": "stdout",
     "output_type": "stream",
     "text": [
      "CPU times: total: 6min 42s\n",
      "Wall time: 6min 42s\n"
     ]
    },
    {
     "data": {
      "text/html": [
       "<style>#sk-container-id-16 {color: black;background-color: white;}#sk-container-id-16 pre{padding: 0;}#sk-container-id-16 div.sk-toggleable {background-color: white;}#sk-container-id-16 label.sk-toggleable__label {cursor: pointer;display: block;width: 100%;margin-bottom: 0;padding: 0.3em;box-sizing: border-box;text-align: center;}#sk-container-id-16 label.sk-toggleable__label-arrow:before {content: \"▸\";float: left;margin-right: 0.25em;color: #696969;}#sk-container-id-16 label.sk-toggleable__label-arrow:hover:before {color: black;}#sk-container-id-16 div.sk-estimator:hover label.sk-toggleable__label-arrow:before {color: black;}#sk-container-id-16 div.sk-toggleable__content {max-height: 0;max-width: 0;overflow: hidden;text-align: left;background-color: #f0f8ff;}#sk-container-id-16 div.sk-toggleable__content pre {margin: 0.2em;color: black;border-radius: 0.25em;background-color: #f0f8ff;}#sk-container-id-16 input.sk-toggleable__control:checked~div.sk-toggleable__content {max-height: 200px;max-width: 100%;overflow: auto;}#sk-container-id-16 input.sk-toggleable__control:checked~label.sk-toggleable__label-arrow:before {content: \"▾\";}#sk-container-id-16 div.sk-estimator input.sk-toggleable__control:checked~label.sk-toggleable__label {background-color: #d4ebff;}#sk-container-id-16 div.sk-label input.sk-toggleable__control:checked~label.sk-toggleable__label {background-color: #d4ebff;}#sk-container-id-16 input.sk-hidden--visually {border: 0;clip: rect(1px 1px 1px 1px);clip: rect(1px, 1px, 1px, 1px);height: 1px;margin: -1px;overflow: hidden;padding: 0;position: absolute;width: 1px;}#sk-container-id-16 div.sk-estimator {font-family: monospace;background-color: #f0f8ff;border: 1px dotted black;border-radius: 0.25em;box-sizing: border-box;margin-bottom: 0.5em;}#sk-container-id-16 div.sk-estimator:hover {background-color: #d4ebff;}#sk-container-id-16 div.sk-parallel-item::after {content: \"\";width: 100%;border-bottom: 1px solid gray;flex-grow: 1;}#sk-container-id-16 div.sk-label:hover label.sk-toggleable__label {background-color: #d4ebff;}#sk-container-id-16 div.sk-serial::before {content: \"\";position: absolute;border-left: 1px solid gray;box-sizing: border-box;top: 0;bottom: 0;left: 50%;z-index: 0;}#sk-container-id-16 div.sk-serial {display: flex;flex-direction: column;align-items: center;background-color: white;padding-right: 0.2em;padding-left: 0.2em;position: relative;}#sk-container-id-16 div.sk-item {position: relative;z-index: 1;}#sk-container-id-16 div.sk-parallel {display: flex;align-items: stretch;justify-content: center;background-color: white;position: relative;}#sk-container-id-16 div.sk-item::before, #sk-container-id-16 div.sk-parallel-item::before {content: \"\";position: absolute;border-left: 1px solid gray;box-sizing: border-box;top: 0;bottom: 0;left: 50%;z-index: -1;}#sk-container-id-16 div.sk-parallel-item {display: flex;flex-direction: column;z-index: 1;position: relative;background-color: white;}#sk-container-id-16 div.sk-parallel-item:first-child::after {align-self: flex-end;width: 50%;}#sk-container-id-16 div.sk-parallel-item:last-child::after {align-self: flex-start;width: 50%;}#sk-container-id-16 div.sk-parallel-item:only-child::after {width: 0;}#sk-container-id-16 div.sk-dashed-wrapped {border: 1px dashed gray;margin: 0 0.4em 0.5em 0.4em;box-sizing: border-box;padding-bottom: 0.4em;background-color: white;}#sk-container-id-16 div.sk-label label {font-family: monospace;font-weight: bold;display: inline-block;line-height: 1.2em;}#sk-container-id-16 div.sk-label-container {text-align: center;}#sk-container-id-16 div.sk-container {/* jupyter's `normalize.less` sets `[hidden] { display: none; }` but bootstrap.min.css set `[hidden] { display: none !important; }` so we also need the `!important` here to be able to override the default hidden behavior on the sphinx rendered scikit-learn.org. See: https://github.com/scikit-learn/scikit-learn/issues/21755 */display: inline-block !important;position: relative;}#sk-container-id-16 div.sk-text-repr-fallback {display: none;}</style><div id=\"sk-container-id-16\" class=\"sk-top-container\"><div class=\"sk-text-repr-fallback\"><pre>Pipeline(steps=[(&#x27;columntransformer&#x27;,\n",
       "                 ColumnTransformer(remainder=&#x27;passthrough&#x27;,\n",
       "                                   transformers=[(&#x27;onehotencoder&#x27;,\n",
       "                                                  OneHotEncoder(drop=&#x27;first&#x27;,\n",
       "                                                                handle_unknown=&#x27;ignore&#x27;),\n",
       "                                                  [&#x27;vehicle_type&#x27;,\n",
       "                                                   &#x27;registration_year&#x27;,\n",
       "                                                   &#x27;gearbox&#x27;, &#x27;model&#x27;,\n",
       "                                                   &#x27;registration_month&#x27;,\n",
       "                                                   &#x27;fuel_type&#x27;, &#x27;brand&#x27;,\n",
       "                                                   &#x27;repaired&#x27;, &#x27;weekday&#x27;]),\n",
       "                                                 (&#x27;standardscaler&#x27;,\n",
       "                                                  StandardScaler(),\n",
       "                                                  [&#x27;power&#x27;, &#x27;kilometer&#x27;])])),\n",
       "                (&#x27;randomforestregressor&#x27;,\n",
       "                 RandomForestRegressor(n_estimators=10, random_state=12345))])</pre><b>In a Jupyter environment, please rerun this cell to show the HTML representation or trust the notebook. <br />On GitHub, the HTML representation is unable to render, please try loading this page with nbviewer.org.</b></div><div class=\"sk-container\" hidden><div class=\"sk-item sk-dashed-wrapped\"><div class=\"sk-label-container\"><div class=\"sk-label sk-toggleable\"><input class=\"sk-toggleable__control sk-hidden--visually\" id=\"sk-estimator-id-139\" type=\"checkbox\" ><label for=\"sk-estimator-id-139\" class=\"sk-toggleable__label sk-toggleable__label-arrow\">Pipeline</label><div class=\"sk-toggleable__content\"><pre>Pipeline(steps=[(&#x27;columntransformer&#x27;,\n",
       "                 ColumnTransformer(remainder=&#x27;passthrough&#x27;,\n",
       "                                   transformers=[(&#x27;onehotencoder&#x27;,\n",
       "                                                  OneHotEncoder(drop=&#x27;first&#x27;,\n",
       "                                                                handle_unknown=&#x27;ignore&#x27;),\n",
       "                                                  [&#x27;vehicle_type&#x27;,\n",
       "                                                   &#x27;registration_year&#x27;,\n",
       "                                                   &#x27;gearbox&#x27;, &#x27;model&#x27;,\n",
       "                                                   &#x27;registration_month&#x27;,\n",
       "                                                   &#x27;fuel_type&#x27;, &#x27;brand&#x27;,\n",
       "                                                   &#x27;repaired&#x27;, &#x27;weekday&#x27;]),\n",
       "                                                 (&#x27;standardscaler&#x27;,\n",
       "                                                  StandardScaler(),\n",
       "                                                  [&#x27;power&#x27;, &#x27;kilometer&#x27;])])),\n",
       "                (&#x27;randomforestregressor&#x27;,\n",
       "                 RandomForestRegressor(n_estimators=10, random_state=12345))])</pre></div></div></div><div class=\"sk-serial\"><div class=\"sk-item sk-dashed-wrapped\"><div class=\"sk-label-container\"><div class=\"sk-label sk-toggleable\"><input class=\"sk-toggleable__control sk-hidden--visually\" id=\"sk-estimator-id-140\" type=\"checkbox\" ><label for=\"sk-estimator-id-140\" class=\"sk-toggleable__label sk-toggleable__label-arrow\">columntransformer: ColumnTransformer</label><div class=\"sk-toggleable__content\"><pre>ColumnTransformer(remainder=&#x27;passthrough&#x27;,\n",
       "                  transformers=[(&#x27;onehotencoder&#x27;,\n",
       "                                 OneHotEncoder(drop=&#x27;first&#x27;,\n",
       "                                               handle_unknown=&#x27;ignore&#x27;),\n",
       "                                 [&#x27;vehicle_type&#x27;, &#x27;registration_year&#x27;,\n",
       "                                  &#x27;gearbox&#x27;, &#x27;model&#x27;, &#x27;registration_month&#x27;,\n",
       "                                  &#x27;fuel_type&#x27;, &#x27;brand&#x27;, &#x27;repaired&#x27;,\n",
       "                                  &#x27;weekday&#x27;]),\n",
       "                                (&#x27;standardscaler&#x27;, StandardScaler(),\n",
       "                                 [&#x27;power&#x27;, &#x27;kilometer&#x27;])])</pre></div></div></div><div class=\"sk-parallel\"><div class=\"sk-parallel-item\"><div class=\"sk-item\"><div class=\"sk-label-container\"><div class=\"sk-label sk-toggleable\"><input class=\"sk-toggleable__control sk-hidden--visually\" id=\"sk-estimator-id-141\" type=\"checkbox\" ><label for=\"sk-estimator-id-141\" class=\"sk-toggleable__label sk-toggleable__label-arrow\">onehotencoder</label><div class=\"sk-toggleable__content\"><pre>[&#x27;vehicle_type&#x27;, &#x27;registration_year&#x27;, &#x27;gearbox&#x27;, &#x27;model&#x27;, &#x27;registration_month&#x27;, &#x27;fuel_type&#x27;, &#x27;brand&#x27;, &#x27;repaired&#x27;, &#x27;weekday&#x27;]</pre></div></div></div><div class=\"sk-serial\"><div class=\"sk-item\"><div class=\"sk-estimator sk-toggleable\"><input class=\"sk-toggleable__control sk-hidden--visually\" id=\"sk-estimator-id-142\" type=\"checkbox\" ><label for=\"sk-estimator-id-142\" class=\"sk-toggleable__label sk-toggleable__label-arrow\">OneHotEncoder</label><div class=\"sk-toggleable__content\"><pre>OneHotEncoder(drop=&#x27;first&#x27;, handle_unknown=&#x27;ignore&#x27;)</pre></div></div></div></div></div></div><div class=\"sk-parallel-item\"><div class=\"sk-item\"><div class=\"sk-label-container\"><div class=\"sk-label sk-toggleable\"><input class=\"sk-toggleable__control sk-hidden--visually\" id=\"sk-estimator-id-143\" type=\"checkbox\" ><label for=\"sk-estimator-id-143\" class=\"sk-toggleable__label sk-toggleable__label-arrow\">standardscaler</label><div class=\"sk-toggleable__content\"><pre>[&#x27;power&#x27;, &#x27;kilometer&#x27;]</pre></div></div></div><div class=\"sk-serial\"><div class=\"sk-item\"><div class=\"sk-estimator sk-toggleable\"><input class=\"sk-toggleable__control sk-hidden--visually\" id=\"sk-estimator-id-144\" type=\"checkbox\" ><label for=\"sk-estimator-id-144\" class=\"sk-toggleable__label sk-toggleable__label-arrow\">StandardScaler</label><div class=\"sk-toggleable__content\"><pre>StandardScaler()</pre></div></div></div></div></div></div><div class=\"sk-parallel-item\"><div class=\"sk-item\"><div class=\"sk-label-container\"><div class=\"sk-label sk-toggleable\"><input class=\"sk-toggleable__control sk-hidden--visually\" id=\"sk-estimator-id-145\" type=\"checkbox\" ><label for=\"sk-estimator-id-145\" class=\"sk-toggleable__label sk-toggleable__label-arrow\">remainder</label><div class=\"sk-toggleable__content\"><pre>[]</pre></div></div></div><div class=\"sk-serial\"><div class=\"sk-item\"><div class=\"sk-estimator sk-toggleable\"><input class=\"sk-toggleable__control sk-hidden--visually\" id=\"sk-estimator-id-146\" type=\"checkbox\" ><label for=\"sk-estimator-id-146\" class=\"sk-toggleable__label sk-toggleable__label-arrow\">passthrough</label><div class=\"sk-toggleable__content\"><pre>passthrough</pre></div></div></div></div></div></div></div></div><div class=\"sk-item\"><div class=\"sk-estimator sk-toggleable\"><input class=\"sk-toggleable__control sk-hidden--visually\" id=\"sk-estimator-id-147\" type=\"checkbox\" ><label for=\"sk-estimator-id-147\" class=\"sk-toggleable__label sk-toggleable__label-arrow\">RandomForestRegressor</label><div class=\"sk-toggleable__content\"><pre>RandomForestRegressor(n_estimators=10, random_state=12345)</pre></div></div></div></div></div></div></div>"
      ],
      "text/plain": [
       "Pipeline(steps=[('columntransformer',\n",
       "                 ColumnTransformer(remainder='passthrough',\n",
       "                                   transformers=[('onehotencoder',\n",
       "                                                  OneHotEncoder(drop='first',\n",
       "                                                                handle_unknown='ignore'),\n",
       "                                                  ['vehicle_type',\n",
       "                                                   'registration_year',\n",
       "                                                   'gearbox', 'model',\n",
       "                                                   'registration_month',\n",
       "                                                   'fuel_type', 'brand',\n",
       "                                                   'repaired', 'weekday']),\n",
       "                                                 ('standardscaler',\n",
       "                                                  StandardScaler(),\n",
       "                                                  ['power', 'kilometer'])])),\n",
       "                ('randomforestregressor',\n",
       "                 RandomForestRegressor(n_estimators=10, random_state=12345))])"
      ]
     },
     "execution_count": 221,
     "metadata": {},
     "output_type": "execute_result"
    }
   ],
   "source": [
    "%%time\n",
    "model_forest = RandomForestRegressor(\n",
    "    random_state=12345,\n",
    "    n_estimators=100,\n",
    "    min_samples_split=3,\n",
    "    min_samples_leaf=3,\n",
    "    max_depth=6)\n",
    "pipe.fit(features_train, target_train)"
   ]
  },
  {
   "cell_type": "code",
   "execution_count": 222,
   "metadata": {},
   "outputs": [
    {
     "name": "stderr",
     "output_type": "stream",
     "text": [
      "C:\\123\\WPy64-31090\\python-3.10.9.amd64\\lib\\site-packages\\sklearn\\preprocessing\\_encoders.py:188: UserWarning: Found unknown categories in columns [3] during transform. These unknown categories will be encoded as all zeros\n",
      "  warnings.warn(\n"
     ]
    },
    {
     "name": "stdout",
     "output_type": "stream",
     "text": [
      "CPU times: total: 375 ms\n",
      "Wall time: 375 ms\n"
     ]
    }
   ],
   "source": [
    "%%time\n",
    "prediction = pipe.predict(features_valid)"
   ]
  },
  {
   "cell_type": "code",
   "execution_count": 223,
   "metadata": {},
   "outputs": [
    {
     "data": {
      "text/plain": [
       "1793.3391993747325"
      ]
     },
     "execution_count": 223,
     "metadata": {},
     "output_type": "execute_result"
    }
   ],
   "source": [
    "mean_squared_error(target_valid, prediction, squared = False)"
   ]
  },
  {
   "cell_type": "markdown",
   "metadata": {},
   "source": [
    "**Модель RandomForestRegressor**\n",
    "\n",
    "Время обучения 397s\\\n",
    "Время предсказания 363ms\\\n",
    "Качество предсказания по метрике RMSE: 1793"
   ]
  },
  {
   "cell_type": "markdown",
   "metadata": {},
   "source": [
    "### Модель LightGBM"
   ]
  },
  {
   "cell_type": "code",
   "execution_count": 224,
   "metadata": {},
   "outputs": [
    {
     "name": "stdout",
     "output_type": "stream",
     "text": [
      "{'lgbmregressor__n_estimators': 500, 'lgbmregressor__max_depth': 10, 'lgbmregressor__learning_rate': 0.2}\n",
      "-1653.984398231191\n"
     ]
    }
   ],
   "source": [
    "model = lgb.LGBMRegressor(metric='root_mean_squared_error')\n",
    "pipe = make_pipeline(column_trans, model)\n",
    "param_grid = {'lgbmregressor__max_depth': range(2, 12, 2),              \n",
    "              'lgbmregressor__learning_rate': np.arange(.1, .9, .1),\n",
    "              'lgbmregressor__n_estimators': range(100, 1000, 100)\n",
    "             }\n",
    "model_lgbm_r = RandomizedSearchCV(\n",
    "    pipe,\n",
    "    param_grid,\n",
    "    cv=5,\n",
    "    scoring='neg_root_mean_squared_error',\n",
    "    n_jobs = -1,\n",
    "    random_state=12345)\n",
    "model_lgbm_r.fit(features_train, target_train)\n",
    "print(model_lgbm_r.best_params_)\n",
    "print(model_lgbm_r.best_score_)"
   ]
  },
  {
   "cell_type": "code",
   "execution_count": 225,
   "metadata": {
    "scrolled": true
   },
   "outputs": [
    {
     "name": "stdout",
     "output_type": "stream",
     "text": [
      "CPU times: total: 17.5 s\n",
      "Wall time: 1.9 s\n"
     ]
    },
    {
     "data": {
      "text/html": [
       "<style>#sk-container-id-17 {color: black;background-color: white;}#sk-container-id-17 pre{padding: 0;}#sk-container-id-17 div.sk-toggleable {background-color: white;}#sk-container-id-17 label.sk-toggleable__label {cursor: pointer;display: block;width: 100%;margin-bottom: 0;padding: 0.3em;box-sizing: border-box;text-align: center;}#sk-container-id-17 label.sk-toggleable__label-arrow:before {content: \"▸\";float: left;margin-right: 0.25em;color: #696969;}#sk-container-id-17 label.sk-toggleable__label-arrow:hover:before {color: black;}#sk-container-id-17 div.sk-estimator:hover label.sk-toggleable__label-arrow:before {color: black;}#sk-container-id-17 div.sk-toggleable__content {max-height: 0;max-width: 0;overflow: hidden;text-align: left;background-color: #f0f8ff;}#sk-container-id-17 div.sk-toggleable__content pre {margin: 0.2em;color: black;border-radius: 0.25em;background-color: #f0f8ff;}#sk-container-id-17 input.sk-toggleable__control:checked~div.sk-toggleable__content {max-height: 200px;max-width: 100%;overflow: auto;}#sk-container-id-17 input.sk-toggleable__control:checked~label.sk-toggleable__label-arrow:before {content: \"▾\";}#sk-container-id-17 div.sk-estimator input.sk-toggleable__control:checked~label.sk-toggleable__label {background-color: #d4ebff;}#sk-container-id-17 div.sk-label input.sk-toggleable__control:checked~label.sk-toggleable__label {background-color: #d4ebff;}#sk-container-id-17 input.sk-hidden--visually {border: 0;clip: rect(1px 1px 1px 1px);clip: rect(1px, 1px, 1px, 1px);height: 1px;margin: -1px;overflow: hidden;padding: 0;position: absolute;width: 1px;}#sk-container-id-17 div.sk-estimator {font-family: monospace;background-color: #f0f8ff;border: 1px dotted black;border-radius: 0.25em;box-sizing: border-box;margin-bottom: 0.5em;}#sk-container-id-17 div.sk-estimator:hover {background-color: #d4ebff;}#sk-container-id-17 div.sk-parallel-item::after {content: \"\";width: 100%;border-bottom: 1px solid gray;flex-grow: 1;}#sk-container-id-17 div.sk-label:hover label.sk-toggleable__label {background-color: #d4ebff;}#sk-container-id-17 div.sk-serial::before {content: \"\";position: absolute;border-left: 1px solid gray;box-sizing: border-box;top: 0;bottom: 0;left: 50%;z-index: 0;}#sk-container-id-17 div.sk-serial {display: flex;flex-direction: column;align-items: center;background-color: white;padding-right: 0.2em;padding-left: 0.2em;position: relative;}#sk-container-id-17 div.sk-item {position: relative;z-index: 1;}#sk-container-id-17 div.sk-parallel {display: flex;align-items: stretch;justify-content: center;background-color: white;position: relative;}#sk-container-id-17 div.sk-item::before, #sk-container-id-17 div.sk-parallel-item::before {content: \"\";position: absolute;border-left: 1px solid gray;box-sizing: border-box;top: 0;bottom: 0;left: 50%;z-index: -1;}#sk-container-id-17 div.sk-parallel-item {display: flex;flex-direction: column;z-index: 1;position: relative;background-color: white;}#sk-container-id-17 div.sk-parallel-item:first-child::after {align-self: flex-end;width: 50%;}#sk-container-id-17 div.sk-parallel-item:last-child::after {align-self: flex-start;width: 50%;}#sk-container-id-17 div.sk-parallel-item:only-child::after {width: 0;}#sk-container-id-17 div.sk-dashed-wrapped {border: 1px dashed gray;margin: 0 0.4em 0.5em 0.4em;box-sizing: border-box;padding-bottom: 0.4em;background-color: white;}#sk-container-id-17 div.sk-label label {font-family: monospace;font-weight: bold;display: inline-block;line-height: 1.2em;}#sk-container-id-17 div.sk-label-container {text-align: center;}#sk-container-id-17 div.sk-container {/* jupyter's `normalize.less` sets `[hidden] { display: none; }` but bootstrap.min.css set `[hidden] { display: none !important; }` so we also need the `!important` here to be able to override the default hidden behavior on the sphinx rendered scikit-learn.org. See: https://github.com/scikit-learn/scikit-learn/issues/21755 */display: inline-block !important;position: relative;}#sk-container-id-17 div.sk-text-repr-fallback {display: none;}</style><div id=\"sk-container-id-17\" class=\"sk-top-container\"><div class=\"sk-text-repr-fallback\"><pre>Pipeline(steps=[(&#x27;columntransformer&#x27;,\n",
       "                 ColumnTransformer(remainder=&#x27;passthrough&#x27;,\n",
       "                                   transformers=[(&#x27;onehotencoder&#x27;,\n",
       "                                                  OneHotEncoder(drop=&#x27;first&#x27;,\n",
       "                                                                handle_unknown=&#x27;ignore&#x27;),\n",
       "                                                  [&#x27;vehicle_type&#x27;,\n",
       "                                                   &#x27;registration_year&#x27;,\n",
       "                                                   &#x27;gearbox&#x27;, &#x27;model&#x27;,\n",
       "                                                   &#x27;registration_month&#x27;,\n",
       "                                                   &#x27;fuel_type&#x27;, &#x27;brand&#x27;,\n",
       "                                                   &#x27;repaired&#x27;, &#x27;weekday&#x27;]),\n",
       "                                                 (&#x27;standardscaler&#x27;,\n",
       "                                                  StandardScaler(),\n",
       "                                                  [&#x27;power&#x27;, &#x27;kilometer&#x27;])])),\n",
       "                (&#x27;lgbmregressor&#x27;,\n",
       "                 LGBMRegressor(learning_rate=0.2, max_depth=10,\n",
       "                               metric=&#x27;root_mean_squared_error&#x27;,\n",
       "                               n_estimators=500))])</pre><b>In a Jupyter environment, please rerun this cell to show the HTML representation or trust the notebook. <br />On GitHub, the HTML representation is unable to render, please try loading this page with nbviewer.org.</b></div><div class=\"sk-container\" hidden><div class=\"sk-item sk-dashed-wrapped\"><div class=\"sk-label-container\"><div class=\"sk-label sk-toggleable\"><input class=\"sk-toggleable__control sk-hidden--visually\" id=\"sk-estimator-id-148\" type=\"checkbox\" ><label for=\"sk-estimator-id-148\" class=\"sk-toggleable__label sk-toggleable__label-arrow\">Pipeline</label><div class=\"sk-toggleable__content\"><pre>Pipeline(steps=[(&#x27;columntransformer&#x27;,\n",
       "                 ColumnTransformer(remainder=&#x27;passthrough&#x27;,\n",
       "                                   transformers=[(&#x27;onehotencoder&#x27;,\n",
       "                                                  OneHotEncoder(drop=&#x27;first&#x27;,\n",
       "                                                                handle_unknown=&#x27;ignore&#x27;),\n",
       "                                                  [&#x27;vehicle_type&#x27;,\n",
       "                                                   &#x27;registration_year&#x27;,\n",
       "                                                   &#x27;gearbox&#x27;, &#x27;model&#x27;,\n",
       "                                                   &#x27;registration_month&#x27;,\n",
       "                                                   &#x27;fuel_type&#x27;, &#x27;brand&#x27;,\n",
       "                                                   &#x27;repaired&#x27;, &#x27;weekday&#x27;]),\n",
       "                                                 (&#x27;standardscaler&#x27;,\n",
       "                                                  StandardScaler(),\n",
       "                                                  [&#x27;power&#x27;, &#x27;kilometer&#x27;])])),\n",
       "                (&#x27;lgbmregressor&#x27;,\n",
       "                 LGBMRegressor(learning_rate=0.2, max_depth=10,\n",
       "                               metric=&#x27;root_mean_squared_error&#x27;,\n",
       "                               n_estimators=500))])</pre></div></div></div><div class=\"sk-serial\"><div class=\"sk-item sk-dashed-wrapped\"><div class=\"sk-label-container\"><div class=\"sk-label sk-toggleable\"><input class=\"sk-toggleable__control sk-hidden--visually\" id=\"sk-estimator-id-149\" type=\"checkbox\" ><label for=\"sk-estimator-id-149\" class=\"sk-toggleable__label sk-toggleable__label-arrow\">columntransformer: ColumnTransformer</label><div class=\"sk-toggleable__content\"><pre>ColumnTransformer(remainder=&#x27;passthrough&#x27;,\n",
       "                  transformers=[(&#x27;onehotencoder&#x27;,\n",
       "                                 OneHotEncoder(drop=&#x27;first&#x27;,\n",
       "                                               handle_unknown=&#x27;ignore&#x27;),\n",
       "                                 [&#x27;vehicle_type&#x27;, &#x27;registration_year&#x27;,\n",
       "                                  &#x27;gearbox&#x27;, &#x27;model&#x27;, &#x27;registration_month&#x27;,\n",
       "                                  &#x27;fuel_type&#x27;, &#x27;brand&#x27;, &#x27;repaired&#x27;,\n",
       "                                  &#x27;weekday&#x27;]),\n",
       "                                (&#x27;standardscaler&#x27;, StandardScaler(),\n",
       "                                 [&#x27;power&#x27;, &#x27;kilometer&#x27;])])</pre></div></div></div><div class=\"sk-parallel\"><div class=\"sk-parallel-item\"><div class=\"sk-item\"><div class=\"sk-label-container\"><div class=\"sk-label sk-toggleable\"><input class=\"sk-toggleable__control sk-hidden--visually\" id=\"sk-estimator-id-150\" type=\"checkbox\" ><label for=\"sk-estimator-id-150\" class=\"sk-toggleable__label sk-toggleable__label-arrow\">onehotencoder</label><div class=\"sk-toggleable__content\"><pre>[&#x27;vehicle_type&#x27;, &#x27;registration_year&#x27;, &#x27;gearbox&#x27;, &#x27;model&#x27;, &#x27;registration_month&#x27;, &#x27;fuel_type&#x27;, &#x27;brand&#x27;, &#x27;repaired&#x27;, &#x27;weekday&#x27;]</pre></div></div></div><div class=\"sk-serial\"><div class=\"sk-item\"><div class=\"sk-estimator sk-toggleable\"><input class=\"sk-toggleable__control sk-hidden--visually\" id=\"sk-estimator-id-151\" type=\"checkbox\" ><label for=\"sk-estimator-id-151\" class=\"sk-toggleable__label sk-toggleable__label-arrow\">OneHotEncoder</label><div class=\"sk-toggleable__content\"><pre>OneHotEncoder(drop=&#x27;first&#x27;, handle_unknown=&#x27;ignore&#x27;)</pre></div></div></div></div></div></div><div class=\"sk-parallel-item\"><div class=\"sk-item\"><div class=\"sk-label-container\"><div class=\"sk-label sk-toggleable\"><input class=\"sk-toggleable__control sk-hidden--visually\" id=\"sk-estimator-id-152\" type=\"checkbox\" ><label for=\"sk-estimator-id-152\" class=\"sk-toggleable__label sk-toggleable__label-arrow\">standardscaler</label><div class=\"sk-toggleable__content\"><pre>[&#x27;power&#x27;, &#x27;kilometer&#x27;]</pre></div></div></div><div class=\"sk-serial\"><div class=\"sk-item\"><div class=\"sk-estimator sk-toggleable\"><input class=\"sk-toggleable__control sk-hidden--visually\" id=\"sk-estimator-id-153\" type=\"checkbox\" ><label for=\"sk-estimator-id-153\" class=\"sk-toggleable__label sk-toggleable__label-arrow\">StandardScaler</label><div class=\"sk-toggleable__content\"><pre>StandardScaler()</pre></div></div></div></div></div></div><div class=\"sk-parallel-item\"><div class=\"sk-item\"><div class=\"sk-label-container\"><div class=\"sk-label sk-toggleable\"><input class=\"sk-toggleable__control sk-hidden--visually\" id=\"sk-estimator-id-154\" type=\"checkbox\" ><label for=\"sk-estimator-id-154\" class=\"sk-toggleable__label sk-toggleable__label-arrow\">remainder</label><div class=\"sk-toggleable__content\"><pre>[]</pre></div></div></div><div class=\"sk-serial\"><div class=\"sk-item\"><div class=\"sk-estimator sk-toggleable\"><input class=\"sk-toggleable__control sk-hidden--visually\" id=\"sk-estimator-id-155\" type=\"checkbox\" ><label for=\"sk-estimator-id-155\" class=\"sk-toggleable__label sk-toggleable__label-arrow\">passthrough</label><div class=\"sk-toggleable__content\"><pre>passthrough</pre></div></div></div></div></div></div></div></div><div class=\"sk-item\"><div class=\"sk-estimator sk-toggleable\"><input class=\"sk-toggleable__control sk-hidden--visually\" id=\"sk-estimator-id-156\" type=\"checkbox\" ><label for=\"sk-estimator-id-156\" class=\"sk-toggleable__label sk-toggleable__label-arrow\">LGBMRegressor</label><div class=\"sk-toggleable__content\"><pre>LGBMRegressor(learning_rate=0.2, max_depth=10, metric=&#x27;root_mean_squared_error&#x27;,\n",
       "              n_estimators=500)</pre></div></div></div></div></div></div></div>"
      ],
      "text/plain": [
       "Pipeline(steps=[('columntransformer',\n",
       "                 ColumnTransformer(remainder='passthrough',\n",
       "                                   transformers=[('onehotencoder',\n",
       "                                                  OneHotEncoder(drop='first',\n",
       "                                                                handle_unknown='ignore'),\n",
       "                                                  ['vehicle_type',\n",
       "                                                   'registration_year',\n",
       "                                                   'gearbox', 'model',\n",
       "                                                   'registration_month',\n",
       "                                                   'fuel_type', 'brand',\n",
       "                                                   'repaired', 'weekday']),\n",
       "                                                 ('standardscaler',\n",
       "                                                  StandardScaler(),\n",
       "                                                  ['power', 'kilometer'])])),\n",
       "                ('lgbmregressor',\n",
       "                 LGBMRegressor(learning_rate=0.2, max_depth=10,\n",
       "                               metric='root_mean_squared_error',\n",
       "                               n_estimators=500))])"
      ]
     },
     "execution_count": 225,
     "metadata": {},
     "output_type": "execute_result"
    }
   ],
   "source": [
    "%%time\n",
    "model = lgb.LGBMRegressor(metric='root_mean_squared_error', n_estimators=500, max_depth=10, learning_rate=0.2)\n",
    "pipe_lgbm = make_pipeline(column_trans, model)\n",
    "pipe_lgbm.fit(features_train, target_train)"
   ]
  },
  {
   "cell_type": "code",
   "execution_count": 226,
   "metadata": {},
   "outputs": [
    {
     "name": "stderr",
     "output_type": "stream",
     "text": [
      "C:\\123\\WPy64-31090\\python-3.10.9.amd64\\lib\\site-packages\\sklearn\\preprocessing\\_encoders.py:188: UserWarning: Found unknown categories in columns [3] during transform. These unknown categories will be encoded as all zeros\n",
      "  warnings.warn(\n"
     ]
    },
    {
     "name": "stdout",
     "output_type": "stream",
     "text": [
      "CPU times: total: 3.08 s\n",
      "Wall time: 372 ms\n"
     ]
    }
   ],
   "source": [
    "%%time\n",
    "prediction = pipe_lgbm.predict(features_valid)"
   ]
  },
  {
   "cell_type": "code",
   "execution_count": 227,
   "metadata": {},
   "outputs": [
    {
     "data": {
      "text/plain": [
       "1643.3544470602767"
      ]
     },
     "execution_count": 227,
     "metadata": {},
     "output_type": "execute_result"
    }
   ],
   "source": [
    "mean_squared_error(target_valid, prediction, squared = False)"
   ]
  },
  {
   "cell_type": "markdown",
   "metadata": {},
   "source": [
    "**Модель LightGBM**\n",
    "\n",
    "Время обучения 1.86s\\\n",
    "Время предсказания 239ms\\\n",
    "Качество предсказания по метрике RMSE: 1643"
   ]
  },
  {
   "cell_type": "markdown",
   "metadata": {},
   "source": [
    "### Модель CatBoost"
   ]
  },
  {
   "cell_type": "code",
   "execution_count": 228,
   "metadata": {},
   "outputs": [
    {
     "name": "stdout",
     "output_type": "stream",
     "text": [
      "{'catboostregressor__learning_rate': 0.4, 'catboostregressor__iterations': 400, 'catboostregressor__depth': 8}\n",
      "-1654.2437883727864\n"
     ]
    }
   ],
   "source": [
    "model = CatBoostRegressor(loss_function=\"RMSE\", verbose=False)\n",
    "pipe = make_pipeline(column_trans, model)\n",
    "param_grid = {'catboostregressor__depth': range(2, 12, 2),              \n",
    "              'catboostregressor__learning_rate': np.arange(.1, .9, .1),\n",
    "              'catboostregressor__iterations': range(100, 1000, 100)\n",
    "             }\n",
    "model_cat_r = RandomizedSearchCV(\n",
    "    pipe,\n",
    "    param_grid,\n",
    "    cv=5,\n",
    "    scoring='neg_root_mean_squared_error',\n",
    "    n_jobs = -1,\n",
    "    random_state=12345)\n",
    "model_cat_r.fit(features_train, target_train)\n",
    "print(model_cat_r.best_params_)\n",
    "print(model_cat_r.best_score_)"
   ]
  },
  {
   "cell_type": "code",
   "execution_count": 229,
   "metadata": {},
   "outputs": [
    {
     "name": "stdout",
     "output_type": "stream",
     "text": [
      "CPU times: total: 1min 4s\n",
      "Wall time: 8.73 s\n"
     ]
    },
    {
     "data": {
      "text/html": [
       "<style>#sk-container-id-18 {color: black;background-color: white;}#sk-container-id-18 pre{padding: 0;}#sk-container-id-18 div.sk-toggleable {background-color: white;}#sk-container-id-18 label.sk-toggleable__label {cursor: pointer;display: block;width: 100%;margin-bottom: 0;padding: 0.3em;box-sizing: border-box;text-align: center;}#sk-container-id-18 label.sk-toggleable__label-arrow:before {content: \"▸\";float: left;margin-right: 0.25em;color: #696969;}#sk-container-id-18 label.sk-toggleable__label-arrow:hover:before {color: black;}#sk-container-id-18 div.sk-estimator:hover label.sk-toggleable__label-arrow:before {color: black;}#sk-container-id-18 div.sk-toggleable__content {max-height: 0;max-width: 0;overflow: hidden;text-align: left;background-color: #f0f8ff;}#sk-container-id-18 div.sk-toggleable__content pre {margin: 0.2em;color: black;border-radius: 0.25em;background-color: #f0f8ff;}#sk-container-id-18 input.sk-toggleable__control:checked~div.sk-toggleable__content {max-height: 200px;max-width: 100%;overflow: auto;}#sk-container-id-18 input.sk-toggleable__control:checked~label.sk-toggleable__label-arrow:before {content: \"▾\";}#sk-container-id-18 div.sk-estimator input.sk-toggleable__control:checked~label.sk-toggleable__label {background-color: #d4ebff;}#sk-container-id-18 div.sk-label input.sk-toggleable__control:checked~label.sk-toggleable__label {background-color: #d4ebff;}#sk-container-id-18 input.sk-hidden--visually {border: 0;clip: rect(1px 1px 1px 1px);clip: rect(1px, 1px, 1px, 1px);height: 1px;margin: -1px;overflow: hidden;padding: 0;position: absolute;width: 1px;}#sk-container-id-18 div.sk-estimator {font-family: monospace;background-color: #f0f8ff;border: 1px dotted black;border-radius: 0.25em;box-sizing: border-box;margin-bottom: 0.5em;}#sk-container-id-18 div.sk-estimator:hover {background-color: #d4ebff;}#sk-container-id-18 div.sk-parallel-item::after {content: \"\";width: 100%;border-bottom: 1px solid gray;flex-grow: 1;}#sk-container-id-18 div.sk-label:hover label.sk-toggleable__label {background-color: #d4ebff;}#sk-container-id-18 div.sk-serial::before {content: \"\";position: absolute;border-left: 1px solid gray;box-sizing: border-box;top: 0;bottom: 0;left: 50%;z-index: 0;}#sk-container-id-18 div.sk-serial {display: flex;flex-direction: column;align-items: center;background-color: white;padding-right: 0.2em;padding-left: 0.2em;position: relative;}#sk-container-id-18 div.sk-item {position: relative;z-index: 1;}#sk-container-id-18 div.sk-parallel {display: flex;align-items: stretch;justify-content: center;background-color: white;position: relative;}#sk-container-id-18 div.sk-item::before, #sk-container-id-18 div.sk-parallel-item::before {content: \"\";position: absolute;border-left: 1px solid gray;box-sizing: border-box;top: 0;bottom: 0;left: 50%;z-index: -1;}#sk-container-id-18 div.sk-parallel-item {display: flex;flex-direction: column;z-index: 1;position: relative;background-color: white;}#sk-container-id-18 div.sk-parallel-item:first-child::after {align-self: flex-end;width: 50%;}#sk-container-id-18 div.sk-parallel-item:last-child::after {align-self: flex-start;width: 50%;}#sk-container-id-18 div.sk-parallel-item:only-child::after {width: 0;}#sk-container-id-18 div.sk-dashed-wrapped {border: 1px dashed gray;margin: 0 0.4em 0.5em 0.4em;box-sizing: border-box;padding-bottom: 0.4em;background-color: white;}#sk-container-id-18 div.sk-label label {font-family: monospace;font-weight: bold;display: inline-block;line-height: 1.2em;}#sk-container-id-18 div.sk-label-container {text-align: center;}#sk-container-id-18 div.sk-container {/* jupyter's `normalize.less` sets `[hidden] { display: none; }` but bootstrap.min.css set `[hidden] { display: none !important; }` so we also need the `!important` here to be able to override the default hidden behavior on the sphinx rendered scikit-learn.org. See: https://github.com/scikit-learn/scikit-learn/issues/21755 */display: inline-block !important;position: relative;}#sk-container-id-18 div.sk-text-repr-fallback {display: none;}</style><div id=\"sk-container-id-18\" class=\"sk-top-container\"><div class=\"sk-text-repr-fallback\"><pre>Pipeline(steps=[(&#x27;columntransformer&#x27;,\n",
       "                 ColumnTransformer(remainder=&#x27;passthrough&#x27;,\n",
       "                                   transformers=[(&#x27;onehotencoder&#x27;,\n",
       "                                                  OneHotEncoder(drop=&#x27;first&#x27;,\n",
       "                                                                handle_unknown=&#x27;ignore&#x27;),\n",
       "                                                  [&#x27;vehicle_type&#x27;,\n",
       "                                                   &#x27;registration_year&#x27;,\n",
       "                                                   &#x27;gearbox&#x27;, &#x27;model&#x27;,\n",
       "                                                   &#x27;registration_month&#x27;,\n",
       "                                                   &#x27;fuel_type&#x27;, &#x27;brand&#x27;,\n",
       "                                                   &#x27;repaired&#x27;, &#x27;weekday&#x27;]),\n",
       "                                                 (&#x27;standardscaler&#x27;,\n",
       "                                                  StandardScaler(),\n",
       "                                                  [&#x27;power&#x27;, &#x27;kilometer&#x27;])])),\n",
       "                (&#x27;catboostregressor&#x27;,\n",
       "                 &lt;catboost.core.CatBoostRegressor object at 0x00000204CFF162F0&gt;)])</pre><b>In a Jupyter environment, please rerun this cell to show the HTML representation or trust the notebook. <br />On GitHub, the HTML representation is unable to render, please try loading this page with nbviewer.org.</b></div><div class=\"sk-container\" hidden><div class=\"sk-item sk-dashed-wrapped\"><div class=\"sk-label-container\"><div class=\"sk-label sk-toggleable\"><input class=\"sk-toggleable__control sk-hidden--visually\" id=\"sk-estimator-id-157\" type=\"checkbox\" ><label for=\"sk-estimator-id-157\" class=\"sk-toggleable__label sk-toggleable__label-arrow\">Pipeline</label><div class=\"sk-toggleable__content\"><pre>Pipeline(steps=[(&#x27;columntransformer&#x27;,\n",
       "                 ColumnTransformer(remainder=&#x27;passthrough&#x27;,\n",
       "                                   transformers=[(&#x27;onehotencoder&#x27;,\n",
       "                                                  OneHotEncoder(drop=&#x27;first&#x27;,\n",
       "                                                                handle_unknown=&#x27;ignore&#x27;),\n",
       "                                                  [&#x27;vehicle_type&#x27;,\n",
       "                                                   &#x27;registration_year&#x27;,\n",
       "                                                   &#x27;gearbox&#x27;, &#x27;model&#x27;,\n",
       "                                                   &#x27;registration_month&#x27;,\n",
       "                                                   &#x27;fuel_type&#x27;, &#x27;brand&#x27;,\n",
       "                                                   &#x27;repaired&#x27;, &#x27;weekday&#x27;]),\n",
       "                                                 (&#x27;standardscaler&#x27;,\n",
       "                                                  StandardScaler(),\n",
       "                                                  [&#x27;power&#x27;, &#x27;kilometer&#x27;])])),\n",
       "                (&#x27;catboostregressor&#x27;,\n",
       "                 &lt;catboost.core.CatBoostRegressor object at 0x00000204CFF162F0&gt;)])</pre></div></div></div><div class=\"sk-serial\"><div class=\"sk-item sk-dashed-wrapped\"><div class=\"sk-label-container\"><div class=\"sk-label sk-toggleable\"><input class=\"sk-toggleable__control sk-hidden--visually\" id=\"sk-estimator-id-158\" type=\"checkbox\" ><label for=\"sk-estimator-id-158\" class=\"sk-toggleable__label sk-toggleable__label-arrow\">columntransformer: ColumnTransformer</label><div class=\"sk-toggleable__content\"><pre>ColumnTransformer(remainder=&#x27;passthrough&#x27;,\n",
       "                  transformers=[(&#x27;onehotencoder&#x27;,\n",
       "                                 OneHotEncoder(drop=&#x27;first&#x27;,\n",
       "                                               handle_unknown=&#x27;ignore&#x27;),\n",
       "                                 [&#x27;vehicle_type&#x27;, &#x27;registration_year&#x27;,\n",
       "                                  &#x27;gearbox&#x27;, &#x27;model&#x27;, &#x27;registration_month&#x27;,\n",
       "                                  &#x27;fuel_type&#x27;, &#x27;brand&#x27;, &#x27;repaired&#x27;,\n",
       "                                  &#x27;weekday&#x27;]),\n",
       "                                (&#x27;standardscaler&#x27;, StandardScaler(),\n",
       "                                 [&#x27;power&#x27;, &#x27;kilometer&#x27;])])</pre></div></div></div><div class=\"sk-parallel\"><div class=\"sk-parallel-item\"><div class=\"sk-item\"><div class=\"sk-label-container\"><div class=\"sk-label sk-toggleable\"><input class=\"sk-toggleable__control sk-hidden--visually\" id=\"sk-estimator-id-159\" type=\"checkbox\" ><label for=\"sk-estimator-id-159\" class=\"sk-toggleable__label sk-toggleable__label-arrow\">onehotencoder</label><div class=\"sk-toggleable__content\"><pre>[&#x27;vehicle_type&#x27;, &#x27;registration_year&#x27;, &#x27;gearbox&#x27;, &#x27;model&#x27;, &#x27;registration_month&#x27;, &#x27;fuel_type&#x27;, &#x27;brand&#x27;, &#x27;repaired&#x27;, &#x27;weekday&#x27;]</pre></div></div></div><div class=\"sk-serial\"><div class=\"sk-item\"><div class=\"sk-estimator sk-toggleable\"><input class=\"sk-toggleable__control sk-hidden--visually\" id=\"sk-estimator-id-160\" type=\"checkbox\" ><label for=\"sk-estimator-id-160\" class=\"sk-toggleable__label sk-toggleable__label-arrow\">OneHotEncoder</label><div class=\"sk-toggleable__content\"><pre>OneHotEncoder(drop=&#x27;first&#x27;, handle_unknown=&#x27;ignore&#x27;)</pre></div></div></div></div></div></div><div class=\"sk-parallel-item\"><div class=\"sk-item\"><div class=\"sk-label-container\"><div class=\"sk-label sk-toggleable\"><input class=\"sk-toggleable__control sk-hidden--visually\" id=\"sk-estimator-id-161\" type=\"checkbox\" ><label for=\"sk-estimator-id-161\" class=\"sk-toggleable__label sk-toggleable__label-arrow\">standardscaler</label><div class=\"sk-toggleable__content\"><pre>[&#x27;power&#x27;, &#x27;kilometer&#x27;]</pre></div></div></div><div class=\"sk-serial\"><div class=\"sk-item\"><div class=\"sk-estimator sk-toggleable\"><input class=\"sk-toggleable__control sk-hidden--visually\" id=\"sk-estimator-id-162\" type=\"checkbox\" ><label for=\"sk-estimator-id-162\" class=\"sk-toggleable__label sk-toggleable__label-arrow\">StandardScaler</label><div class=\"sk-toggleable__content\"><pre>StandardScaler()</pre></div></div></div></div></div></div><div class=\"sk-parallel-item\"><div class=\"sk-item\"><div class=\"sk-label-container\"><div class=\"sk-label sk-toggleable\"><input class=\"sk-toggleable__control sk-hidden--visually\" id=\"sk-estimator-id-163\" type=\"checkbox\" ><label for=\"sk-estimator-id-163\" class=\"sk-toggleable__label sk-toggleable__label-arrow\">remainder</label><div class=\"sk-toggleable__content\"><pre>[]</pre></div></div></div><div class=\"sk-serial\"><div class=\"sk-item\"><div class=\"sk-estimator sk-toggleable\"><input class=\"sk-toggleable__control sk-hidden--visually\" id=\"sk-estimator-id-164\" type=\"checkbox\" ><label for=\"sk-estimator-id-164\" class=\"sk-toggleable__label sk-toggleable__label-arrow\">passthrough</label><div class=\"sk-toggleable__content\"><pre>passthrough</pre></div></div></div></div></div></div></div></div><div class=\"sk-item\"><div class=\"sk-estimator sk-toggleable\"><input class=\"sk-toggleable__control sk-hidden--visually\" id=\"sk-estimator-id-165\" type=\"checkbox\" ><label for=\"sk-estimator-id-165\" class=\"sk-toggleable__label sk-toggleable__label-arrow\">CatBoostRegressor</label><div class=\"sk-toggleable__content\"><pre>&lt;catboost.core.CatBoostRegressor object at 0x00000204CFF162F0&gt;</pre></div></div></div></div></div></div></div>"
      ],
      "text/plain": [
       "Pipeline(steps=[('columntransformer',\n",
       "                 ColumnTransformer(remainder='passthrough',\n",
       "                                   transformers=[('onehotencoder',\n",
       "                                                  OneHotEncoder(drop='first',\n",
       "                                                                handle_unknown='ignore'),\n",
       "                                                  ['vehicle_type',\n",
       "                                                   'registration_year',\n",
       "                                                   'gearbox', 'model',\n",
       "                                                   'registration_month',\n",
       "                                                   'fuel_type', 'brand',\n",
       "                                                   'repaired', 'weekday']),\n",
       "                                                 ('standardscaler',\n",
       "                                                  StandardScaler(),\n",
       "                                                  ['power', 'kilometer'])])),\n",
       "                ('catboostregressor',\n",
       "                 <catboost.core.CatBoostRegressor object at 0x00000204CFF162F0>)])"
      ]
     },
     "execution_count": 229,
     "metadata": {},
     "output_type": "execute_result"
    }
   ],
   "source": [
    "%%time\n",
    "model = CatBoostRegressor(loss_function=\"RMSE\", verbose=False, depth=8, learning_rate=0.4, iterations=400)\n",
    "pipe_cat = make_pipeline(column_trans, model)\n",
    "pipe_cat.fit(features_train, target_train)"
   ]
  },
  {
   "cell_type": "code",
   "execution_count": 230,
   "metadata": {},
   "outputs": [
    {
     "name": "stdout",
     "output_type": "stream",
     "text": [
      "CPU times: total: 844 ms\n",
      "Wall time: 258 ms\n"
     ]
    },
    {
     "name": "stderr",
     "output_type": "stream",
     "text": [
      "C:\\123\\WPy64-31090\\python-3.10.9.amd64\\lib\\site-packages\\sklearn\\preprocessing\\_encoders.py:188: UserWarning: Found unknown categories in columns [3] during transform. These unknown categories will be encoded as all zeros\n",
      "  warnings.warn(\n"
     ]
    }
   ],
   "source": [
    "%%time\n",
    "prediction = pipe_cat.predict(features_valid)"
   ]
  },
  {
   "cell_type": "code",
   "execution_count": 231,
   "metadata": {},
   "outputs": [
    {
     "data": {
      "text/plain": [
       "1643.411853535948"
      ]
     },
     "execution_count": 231,
     "metadata": {},
     "output_type": "execute_result"
    }
   ],
   "source": [
    "mean_squared_error(target_valid, prediction, squared = False)"
   ]
  },
  {
   "cell_type": "markdown",
   "metadata": {},
   "source": [
    "**МодельCatBoost**\n",
    "\n",
    "Время обучения 8.6s\\\n",
    "Время предсказания 252ms\\\n",
    "Качество предсказания по метрике RMSE: 1643"
   ]
  },
  {
   "cell_type": "markdown",
   "metadata": {},
   "source": [
    "## Анализ моделей"
   ]
  },
  {
   "cell_type": "code",
   "execution_count": 232,
   "metadata": {},
   "outputs": [
    {
     "data": {
      "text/html": [
       "<div>\n",
       "<style scoped>\n",
       "    .dataframe tbody tr th:only-of-type {\n",
       "        vertical-align: middle;\n",
       "    }\n",
       "\n",
       "    .dataframe tbody tr th {\n",
       "        vertical-align: top;\n",
       "    }\n",
       "\n",
       "    .dataframe thead th {\n",
       "        text-align: right;\n",
       "    }\n",
       "</style>\n",
       "<table border=\"1\" class=\"dataframe\">\n",
       "  <thead>\n",
       "    <tr style=\"text-align: right;\">\n",
       "      <th></th>\n",
       "      <th>RandomForestRegressor</th>\n",
       "      <th>LGBMRegressor</th>\n",
       "      <th>CatBoostRegressor</th>\n",
       "    </tr>\n",
       "  </thead>\n",
       "  <tbody>\n",
       "    <tr>\n",
       "      <th>Время обучения</th>\n",
       "      <td>397s</td>\n",
       "      <td>1.86s</td>\n",
       "      <td>8.6s</td>\n",
       "    </tr>\n",
       "    <tr>\n",
       "      <th>Время предсказания</th>\n",
       "      <td>363ms</td>\n",
       "      <td>239ms</td>\n",
       "      <td>252ms</td>\n",
       "    </tr>\n",
       "    <tr>\n",
       "      <th>Качество предсказания по метрике RMSE</th>\n",
       "      <td>1793</td>\n",
       "      <td>1643</td>\n",
       "      <td>1643</td>\n",
       "    </tr>\n",
       "  </tbody>\n",
       "</table>\n",
       "</div>"
      ],
      "text/plain": [
       "                                      RandomForestRegressor LGBMRegressor  \\\n",
       "Время обучения                                         397s         1.86s   \n",
       "Время предсказания                                    363ms         239ms   \n",
       "Качество предсказания по метрике RMSE                  1793          1643   \n",
       "\n",
       "                                      CatBoostRegressor  \n",
       "Время обучения                                     8.6s  \n",
       "Время предсказания                                252ms  \n",
       "Качество предсказания по метрике RMSE              1643  "
      ]
     },
     "execution_count": 232,
     "metadata": {},
     "output_type": "execute_result"
    }
   ],
   "source": [
    "pd.DataFrame([['397s', '1.86s', '8.6s'], ['363ms', '239ms', '252ms'], [1793, 1643, 1643]],\n",
    "    index = ['Время обучения', 'Время предсказания', 'Качество предсказания по метрике RMSE'],\n",
    "    columns = ['RandomForestRegressor', 'LGBMRegressor', 'CatBoostRegressor'])"
   ]
  },
  {
   "cell_type": "markdown",
   "metadata": {},
   "source": [
    "**Лучшая модель LightGBM**\\\n",
    "Проверим ее на тестовой выборке"
   ]
  },
  {
   "cell_type": "code",
   "execution_count": 233,
   "metadata": {},
   "outputs": [
    {
     "name": "stdout",
     "output_type": "stream",
     "text": [
      "CPU times: total: 2.58 s\n",
      "Wall time: 344 ms\n"
     ]
    }
   ],
   "source": [
    "%%time\n",
    "prediction = pipe_lgbm.predict(features_test)"
   ]
  },
  {
   "cell_type": "code",
   "execution_count": 234,
   "metadata": {},
   "outputs": [
    {
     "data": {
      "text/plain": [
       "1642.953851086306"
      ]
     },
     "execution_count": 234,
     "metadata": {},
     "output_type": "execute_result"
    }
   ],
   "source": [
    "mean_squared_error(target_test, prediction, squared = False)"
   ]
  },
  {
   "cell_type": "markdown",
   "metadata": {},
   "source": [
    "На тестовой выборке модель показала аналогичный результат."
   ]
  },
  {
   "cell_type": "markdown",
   "metadata": {},
   "source": [
    "Проверим модель на адекватность"
   ]
  },
  {
   "cell_type": "code",
   "execution_count": 235,
   "metadata": {},
   "outputs": [
    {
     "data": {
      "text/plain": [
       "4518.203197781168"
      ]
     },
     "execution_count": 235,
     "metadata": {},
     "output_type": "execute_result"
    }
   ],
   "source": [
    "dummy_regr = DummyRegressor(strategy=\"mean\")\n",
    "dummy_regr.fit(features_train, target_train)\n",
    "prediction = dummy_regr.predict(features_test)\n",
    "mean_squared_error(target_test, prediction, squared = False)"
   ]
  },
  {
   "cell_type": "markdown",
   "metadata": {},
   "source": [
    "## Вывод"
   ]
  },
  {
   "attachments": {
    "image.png": {
     "image/png": "[encoded data removed]"
    }
   },
   "cell_type": "markdown",
   "metadata": {},
   "source": [
    "**На этапе предобработки данных:** \\\n",
    "Удалены неинформативные столбцы 'date_crawled', 'last_seen', 'number_of_pictures'.\\\n",
    "В 5 столбцах были обноружены пропуски в данных.\\\n",
    "В 20% анкет не указано, была ли машина в ремонте. Ввели третью категорию \"unknown\" и заменим на нее пропуски в столбце repaired.\\\n",
    "В 10% анкет не указан тип кузова. Заменили эти пропуски на самые популярные варианты из анкет с автомобилями аналогичного бренда и модели.\\\n",
    "Поступили также с пропусками в столбцах fuel_type и gearbox.\\\n",
    "Оставшиеся пропуски заменили на категорию \"unknown\".\n",
    "\n",
    "В 10772 анкетах указана нулевая стоимость авто. Удалили эти объекты.\\\n",
    "Удалили объекты с даой регистрации авто до 1950года и после 2023.\\\n",
    "Удалили объекты с мощность авто выше 350 л.с. У 36180 объектов была указана нулевая мощность двигателя. Заменили нули на среднюю мощность автомобилей аналогичного бренда, модели и с аналогичной коробкой передач.\\\n",
    "Разбили дату создания объявления на три категориальных признака: день недели, месяц и год.\\\n",
    "Неявных дубликатов в признаках со строковыми значениями нет.\n",
    "\n",
    "**На этапе обучения моделей:** \\\n",
    "Были обучены и проанализированы 3 модели.\n",
    "\n",
    "![image.png](attachment:image.png)\n",
    "\n",
    "\n",
    "\n",
    "**Лучшая модель LightGBM** на тестовой выборке показала результат по метрике RMSE: 1643"
   ]
  }
 ],
 "metadata": {
  "ExecuteTimeLog": [
   {
    "duration": 1959,
    "start_time": "2023-03-17T09:20:44.517Z"
   },
   {
    "duration": 32,
    "start_time": "2023-03-17T09:20:46.479Z"
   },
   {
    "duration": 121,
    "start_time": "2023-03-17T09:20:48.152Z"
   },
   {
    "duration": 1262,
    "start_time": "2023-03-17T09:20:59.386Z"
   },
   {
    "duration": 19,
    "start_time": "2023-03-17T09:21:01.147Z"
   },
   {
    "duration": 145,
    "start_time": "2023-03-17T09:21:02.677Z"
   },
   {
    "duration": 3,
    "start_time": "2023-03-17T09:22:00.220Z"
   },
   {
    "duration": 57,
    "start_time": "2023-03-17T09:22:03.641Z"
   },
   {
    "duration": 156,
    "start_time": "2023-03-17T09:22:04.692Z"
   },
   {
    "duration": 42,
    "start_time": "2023-03-17T09:22:13.329Z"
   },
   {
    "duration": 4,
    "start_time": "2023-03-17T09:22:51.749Z"
   },
   {
    "duration": 257,
    "start_time": "2023-03-17T09:22:52.141Z"
   },
   {
    "duration": 14,
    "start_time": "2023-03-17T09:23:01.812Z"
   },
   {
    "duration": 12,
    "start_time": "2023-03-17T09:23:05.025Z"
   },
   {
    "duration": 4,
    "start_time": "2023-03-17T09:23:30.115Z"
   },
   {
    "duration": 1164,
    "start_time": "2023-03-17T09:23:30.124Z"
   },
   {
    "duration": 13,
    "start_time": "2023-03-17T09:23:31.291Z"
   },
   {
    "duration": 165,
    "start_time": "2023-03-17T09:23:31.306Z"
   },
   {
    "duration": 20,
    "start_time": "2023-03-17T09:23:31.472Z"
   },
   {
    "duration": 72,
    "start_time": "2023-03-17T09:23:31.494Z"
   },
   {
    "duration": 137,
    "start_time": "2023-03-17T09:23:31.568Z"
   },
   {
    "duration": 43,
    "start_time": "2023-03-17T09:23:31.707Z"
   },
   {
    "duration": 8,
    "start_time": "2023-03-17T09:23:31.752Z"
   },
   {
    "duration": 253,
    "start_time": "2023-03-17T09:23:31.762Z"
   },
   {
    "duration": 23,
    "start_time": "2023-03-17T09:23:32.017Z"
   },
   {
    "duration": 19,
    "start_time": "2023-03-17T09:23:36.858Z"
   },
   {
    "duration": 34687,
    "start_time": "2023-03-17T09:23:39.984Z"
   },
   {
    "duration": 244,
    "start_time": "2023-03-17T09:26:28.644Z"
   },
   {
    "duration": 35672,
    "start_time": "2023-03-17T09:26:43.107Z"
   },
   {
    "duration": 226,
    "start_time": "2023-03-17T09:27:18.781Z"
   },
   {
    "duration": 35439,
    "start_time": "2023-03-17T09:27:20.175Z"
   },
   {
    "duration": 240,
    "start_time": "2023-03-17T09:27:55.617Z"
   },
   {
    "duration": 79,
    "start_time": "2023-03-17T09:27:55.859Z"
   },
   {
    "duration": 99,
    "start_time": "2023-03-17T09:28:05.806Z"
   },
   {
    "duration": 883,
    "start_time": "2023-03-17T09:28:16.495Z"
   },
   {
    "duration": 13,
    "start_time": "2023-03-17T09:28:24.219Z"
   },
   {
    "duration": 29,
    "start_time": "2023-03-17T09:28:27.733Z"
   },
   {
    "duration": 5,
    "start_time": "2023-03-17T09:28:59.341Z"
   },
   {
    "duration": 892,
    "start_time": "2023-03-17T09:29:04.277Z"
   },
   {
    "duration": 860,
    "start_time": "2023-03-17T09:29:10.885Z"
   },
   {
    "duration": 806,
    "start_time": "2023-03-17T09:29:55.118Z"
   },
   {
    "duration": 895,
    "start_time": "2023-03-17T09:30:06.133Z"
   },
   {
    "duration": 28,
    "start_time": "2023-03-17T09:30:11.955Z"
   },
   {
    "duration": 5,
    "start_time": "2023-03-17T09:30:24.548Z"
   },
   {
    "duration": 866,
    "start_time": "2023-03-17T09:30:27.392Z"
   },
   {
    "duration": 312,
    "start_time": "2023-03-17T09:30:31.721Z"
   },
   {
    "duration": 8,
    "start_time": "2023-03-17T09:30:34.294Z"
   },
   {
    "duration": 30,
    "start_time": "2023-03-17T09:30:36.591Z"
   },
   {
    "duration": 819,
    "start_time": "2023-03-17T09:30:40.867Z"
   },
   {
    "duration": 703,
    "start_time": "2023-03-17T09:30:45.670Z"
   },
   {
    "duration": 799,
    "start_time": "2023-03-17T09:31:19.692Z"
   },
   {
    "duration": 692,
    "start_time": "2023-03-17T09:31:23.223Z"
   },
   {
    "duration": 10,
    "start_time": "2023-03-17T09:31:26.671Z"
   },
   {
    "duration": 27,
    "start_time": "2023-03-17T09:31:28.864Z"
   },
   {
    "duration": 734,
    "start_time": "2023-03-17T09:31:33.991Z"
   },
   {
    "duration": 463,
    "start_time": "2023-03-17T09:31:40.122Z"
   },
   {
    "duration": 10,
    "start_time": "2023-03-17T09:31:41.130Z"
   },
   {
    "duration": 34,
    "start_time": "2023-03-17T09:31:47.026Z"
   },
   {
    "duration": 702,
    "start_time": "2023-03-17T09:31:48.231Z"
   },
   {
    "duration": 14,
    "start_time": "2023-03-17T09:31:51.572Z"
   },
   {
    "duration": 11,
    "start_time": "2023-03-17T09:31:59.974Z"
   },
   {
    "duration": 86,
    "start_time": "2023-03-17T09:32:10.643Z"
   },
   {
    "duration": 11,
    "start_time": "2023-03-17T09:32:19.261Z"
   },
   {
    "duration": 238,
    "start_time": "2023-03-17T09:32:41.636Z"
   },
   {
    "duration": 765,
    "start_time": "2023-03-17T09:32:47.018Z"
   },
   {
    "duration": 882,
    "start_time": "2023-03-17T09:32:52.770Z"
   },
   {
    "duration": 659,
    "start_time": "2023-03-17T09:32:59.155Z"
   },
   {
    "duration": 836,
    "start_time": "2023-03-17T09:33:37.666Z"
   },
   {
    "duration": 9,
    "start_time": "2023-03-17T09:33:40.958Z"
   },
   {
    "duration": 5,
    "start_time": "2023-03-17T09:38:05.607Z"
   },
   {
    "duration": 94,
    "start_time": "2023-03-17T09:38:08.249Z"
   },
   {
    "duration": 95,
    "start_time": "2023-03-17T09:38:12.569Z"
   },
   {
    "duration": 43,
    "start_time": "2023-03-17T09:38:12.984Z"
   },
   {
    "duration": 6,
    "start_time": "2023-03-17T09:39:25.435Z"
   },
   {
    "duration": 23,
    "start_time": "2023-03-17T09:39:55.284Z"
   },
   {
    "duration": 9,
    "start_time": "2023-03-17T09:40:11.658Z"
   },
   {
    "duration": 8,
    "start_time": "2023-03-17T09:40:17.774Z"
   },
   {
    "duration": 22,
    "start_time": "2023-03-17T09:40:21.465Z"
   },
   {
    "duration": 21,
    "start_time": "2023-03-17T09:40:21.974Z"
   },
   {
    "duration": 40,
    "start_time": "2023-03-17T09:40:22.735Z"
   },
   {
    "duration": 21,
    "start_time": "2023-03-17T09:40:34.290Z"
   },
   {
    "duration": 200,
    "start_time": "2023-03-17T09:40:45.291Z"
   },
   {
    "duration": 32,
    "start_time": "2023-03-17T09:42:07.058Z"
   },
   {
    "duration": 83,
    "start_time": "2023-03-17T09:42:07.791Z"
   },
   {
    "duration": 41,
    "start_time": "2023-03-17T09:42:13.313Z"
   },
   {
    "duration": 19,
    "start_time": "2023-03-17T09:42:19.592Z"
   },
   {
    "duration": 13,
    "start_time": "2023-03-17T09:42:41.457Z"
   },
   {
    "duration": 839,
    "start_time": "2023-03-17T09:42:52.635Z"
   },
   {
    "duration": 23,
    "start_time": "2023-03-17T09:43:06.391Z"
   },
   {
    "duration": 81,
    "start_time": "2023-03-17T09:43:12.099Z"
   },
   {
    "duration": 37,
    "start_time": "2023-03-17T09:43:12.591Z"
   },
   {
    "duration": 785,
    "start_time": "2023-03-17T09:43:13.297Z"
   },
   {
    "duration": 5,
    "start_time": "2023-03-17T09:43:20.819Z"
   },
   {
    "duration": 10,
    "start_time": "2023-03-17T09:43:40.606Z"
   },
   {
    "duration": 16,
    "start_time": "2023-03-17T09:44:00.716Z"
   },
   {
    "duration": 80,
    "start_time": "2023-03-17T09:44:17.109Z"
   },
   {
    "duration": 34,
    "start_time": "2023-03-17T09:44:17.852Z"
   },
   {
    "duration": 1653,
    "start_time": "2023-03-17T10:24:11.911Z"
   },
   {
    "duration": 1116,
    "start_time": "2023-03-17T10:24:13.567Z"
   },
   {
    "duration": 20,
    "start_time": "2023-03-17T10:24:14.684Z"
   },
   {
    "duration": 114,
    "start_time": "2023-03-17T10:24:14.706Z"
   },
   {
    "duration": 22,
    "start_time": "2023-03-17T10:24:14.823Z"
   },
   {
    "duration": 56,
    "start_time": "2023-03-17T10:24:14.846Z"
   },
   {
    "duration": 137,
    "start_time": "2023-03-17T10:24:14.903Z"
   },
   {
    "duration": 62,
    "start_time": "2023-03-17T10:24:15.042Z"
   },
   {
    "duration": 6,
    "start_time": "2023-03-17T10:24:15.106Z"
   },
   {
    "duration": 241,
    "start_time": "2023-03-17T10:24:15.114Z"
   },
   {
    "duration": 34,
    "start_time": "2023-03-17T10:24:15.356Z"
   },
   {
    "duration": 132,
    "start_time": "2023-03-17T10:25:57.717Z"
   },
   {
    "duration": 20,
    "start_time": "2023-03-17T10:26:33.741Z"
   },
   {
    "duration": 12,
    "start_time": "2023-03-17T10:26:49.842Z"
   },
   {
    "duration": 13,
    "start_time": "2023-03-17T10:27:25.243Z"
   },
   {
    "duration": 16,
    "start_time": "2023-03-17T10:27:35.964Z"
   },
   {
    "duration": 12,
    "start_time": "2023-03-17T10:27:40.660Z"
   },
   {
    "duration": 12,
    "start_time": "2023-03-17T10:28:09.093Z"
   },
   {
    "duration": 14,
    "start_time": "2023-03-17T10:28:33.631Z"
   },
   {
    "duration": 23,
    "start_time": "2023-03-17T10:28:39.516Z"
   },
   {
    "duration": 30,
    "start_time": "2023-03-17T10:29:07.816Z"
   },
   {
    "duration": 284,
    "start_time": "2023-03-17T10:29:12.721Z"
   },
   {
    "duration": 193,
    "start_time": "2023-03-17T10:32:54.323Z"
   },
   {
    "duration": 20,
    "start_time": "2023-03-17T10:33:17.548Z"
   },
   {
    "duration": 18,
    "start_time": "2023-03-17T10:39:25.895Z"
   },
   {
    "duration": 19,
    "start_time": "2023-03-17T10:39:45.253Z"
   },
   {
    "duration": 20,
    "start_time": "2023-03-17T10:39:53.541Z"
   },
   {
    "duration": 17,
    "start_time": "2023-03-17T10:40:01.078Z"
   },
   {
    "duration": 686,
    "start_time": "2023-03-17T10:51:57.479Z"
   },
   {
    "duration": 705,
    "start_time": "2023-03-17T10:52:47.850Z"
   },
   {
    "duration": 633,
    "start_time": "2023-03-17T10:53:26.801Z"
   },
   {
    "duration": 21,
    "start_time": "2023-03-17T10:56:21.356Z"
   },
   {
    "duration": 474,
    "start_time": "2023-03-17T10:56:24.093Z"
   },
   {
    "duration": 347,
    "start_time": "2023-03-17T11:07:35.709Z"
   },
   {
    "duration": 41671,
    "start_time": "2023-03-17T11:07:38.616Z"
   },
   {
    "duration": 36,
    "start_time": "2023-03-17T11:09:17.118Z"
   },
   {
    "duration": 7,
    "start_time": "2023-03-17T11:21:44.338Z"
   },
   {
    "duration": 12,
    "start_time": "2023-03-17T11:24:37.798Z"
   },
   {
    "duration": 64,
    "start_time": "2023-03-17T11:29:13.764Z"
   },
   {
    "duration": 42,
    "start_time": "2023-03-17T11:29:22.300Z"
   },
   {
    "duration": 36,
    "start_time": "2023-03-17T11:29:58.127Z"
   },
   {
    "duration": 397,
    "start_time": "2023-03-17T11:30:23.505Z"
   },
   {
    "duration": 108,
    "start_time": "2023-03-17T11:30:35.146Z"
   },
   {
    "duration": 3,
    "start_time": "2023-03-17T11:32:27.065Z"
   },
   {
    "duration": 742,
    "start_time": "2023-03-17T11:32:27.070Z"
   },
   {
    "duration": 12,
    "start_time": "2023-03-17T11:32:27.814Z"
   },
   {
    "duration": 129,
    "start_time": "2023-03-17T11:32:27.828Z"
   },
   {
    "duration": 37,
    "start_time": "2023-03-17T11:32:27.959Z"
   },
   {
    "duration": 56,
    "start_time": "2023-03-17T11:32:27.998Z"
   },
   {
    "duration": 107,
    "start_time": "2023-03-17T11:32:28.056Z"
   },
   {
    "duration": 48,
    "start_time": "2023-03-17T11:32:28.165Z"
   },
   {
    "duration": 4,
    "start_time": "2023-03-17T11:32:28.215Z"
   },
   {
    "duration": 245,
    "start_time": "2023-03-17T11:32:28.221Z"
   },
   {
    "duration": 38,
    "start_time": "2023-03-17T11:32:28.467Z"
   },
   {
    "duration": 44,
    "start_time": "2023-03-17T11:32:28.510Z"
   },
   {
    "duration": 281,
    "start_time": "2023-03-17T11:32:28.555Z"
   },
   {
    "duration": 163,
    "start_time": "2023-03-17T11:44:01.108Z"
   },
   {
    "duration": 296,
    "start_time": "2023-03-17T11:46:00.723Z"
   },
   {
    "duration": 2,
    "start_time": "2023-03-17T11:46:22.420Z"
   },
   {
    "duration": 177,
    "start_time": "2023-03-17T11:46:23.164Z"
   },
   {
    "duration": 377,
    "start_time": "2023-03-17T11:48:08.729Z"
   },
   {
    "duration": 3,
    "start_time": "2023-03-17T11:48:35.122Z"
   },
   {
    "duration": 162,
    "start_time": "2023-03-17T11:48:38.714Z"
   },
   {
    "duration": 304,
    "start_time": "2023-03-17T11:49:06.651Z"
   },
   {
    "duration": 2,
    "start_time": "2023-03-17T11:49:09.532Z"
   },
   {
    "duration": 243,
    "start_time": "2023-03-17T11:49:09.916Z"
   },
   {
    "duration": 91,
    "start_time": "2023-03-17T11:49:32.660Z"
   },
   {
    "duration": 4,
    "start_time": "2023-03-17T11:49:39.106Z"
   },
   {
    "duration": 689,
    "start_time": "2023-03-17T11:49:39.112Z"
   },
   {
    "duration": 12,
    "start_time": "2023-03-17T11:49:39.803Z"
   },
   {
    "duration": 114,
    "start_time": "2023-03-17T11:49:39.817Z"
   },
   {
    "duration": 3,
    "start_time": "2023-03-17T11:49:39.933Z"
   },
   {
    "duration": 28,
    "start_time": "2023-03-17T11:49:39.937Z"
   },
   {
    "duration": 131,
    "start_time": "2023-03-17T11:49:39.966Z"
   },
   {
    "duration": 32,
    "start_time": "2023-03-17T11:49:40.110Z"
   },
   {
    "duration": 4,
    "start_time": "2023-03-17T11:49:40.144Z"
   },
   {
    "duration": 220,
    "start_time": "2023-03-17T11:49:40.149Z"
   },
   {
    "duration": 36,
    "start_time": "2023-03-17T11:49:40.371Z"
   },
   {
    "duration": 19,
    "start_time": "2023-03-17T11:49:40.409Z"
   },
   {
    "duration": 291,
    "start_time": "2023-03-17T11:49:40.429Z"
   },
   {
    "duration": 2,
    "start_time": "2023-03-17T11:49:40.722Z"
   },
   {
    "duration": 187,
    "start_time": "2023-03-17T11:49:40.726Z"
   },
   {
    "duration": 315,
    "start_time": "2023-03-17T11:49:40.915Z"
   },
   {
    "duration": 2,
    "start_time": "2023-03-17T11:49:41.232Z"
   },
   {
    "duration": 177,
    "start_time": "2023-03-17T11:49:41.236Z"
   },
   {
    "duration": 296,
    "start_time": "2023-03-17T11:49:41.414Z"
   },
   {
    "duration": 2,
    "start_time": "2023-03-17T11:49:41.711Z"
   },
   {
    "duration": 87,
    "start_time": "2023-03-17T11:49:46.420Z"
   },
   {
    "duration": 608,
    "start_time": "2023-03-17T11:54:00.233Z"
   },
   {
    "duration": 646,
    "start_time": "2023-03-17T11:54:28.146Z"
   },
   {
    "duration": 13,
    "start_time": "2023-03-17T11:57:54.633Z"
   },
   {
    "duration": 3,
    "start_time": "2023-03-17T11:58:07.035Z"
   },
   {
    "duration": 728,
    "start_time": "2023-03-17T11:58:07.040Z"
   },
   {
    "duration": 42,
    "start_time": "2023-03-17T11:58:07.769Z"
   },
   {
    "duration": 123,
    "start_time": "2023-03-17T11:58:07.813Z"
   },
   {
    "duration": 3,
    "start_time": "2023-03-17T11:58:07.938Z"
   },
   {
    "duration": 58,
    "start_time": "2023-03-17T11:58:07.943Z"
   },
   {
    "duration": 121,
    "start_time": "2023-03-17T11:58:08.002Z"
   },
   {
    "duration": 131,
    "start_time": "2023-03-17T11:58:08.124Z"
   },
   {
    "duration": 5,
    "start_time": "2023-03-17T11:58:08.257Z"
   },
   {
    "duration": 248,
    "start_time": "2023-03-17T11:58:08.263Z"
   },
   {
    "duration": 19,
    "start_time": "2023-03-17T11:58:08.514Z"
   },
   {
    "duration": 17,
    "start_time": "2023-03-17T11:58:08.535Z"
   },
   {
    "duration": 303,
    "start_time": "2023-03-17T11:58:08.554Z"
   },
   {
    "duration": 3,
    "start_time": "2023-03-17T11:58:08.859Z"
   },
   {
    "duration": 183,
    "start_time": "2023-03-17T11:58:08.863Z"
   },
   {
    "duration": 323,
    "start_time": "2023-03-17T11:58:09.048Z"
   },
   {
    "duration": 2,
    "start_time": "2023-03-17T11:58:09.373Z"
   },
   {
    "duration": 221,
    "start_time": "2023-03-17T11:58:09.376Z"
   },
   {
    "duration": 324,
    "start_time": "2023-03-17T11:58:09.598Z"
   },
   {
    "duration": 3,
    "start_time": "2023-03-17T11:58:09.923Z"
   },
   {
    "duration": 94,
    "start_time": "2023-03-17T11:58:09.927Z"
   },
   {
    "duration": 683,
    "start_time": "2023-03-17T11:58:10.023Z"
   },
   {
    "duration": 10,
    "start_time": "2023-03-17T11:58:10.707Z"
   },
   {
    "duration": 29,
    "start_time": "2023-03-17T11:58:10.719Z"
   },
   {
    "duration": 4,
    "start_time": "2023-03-17T11:58:10.749Z"
   },
   {
    "duration": 735,
    "start_time": "2023-03-17T11:58:10.754Z"
   },
   {
    "duration": 714,
    "start_time": "2023-03-17T11:58:11.497Z"
   },
   {
    "duration": 32,
    "start_time": "2023-03-17T11:58:12.213Z"
   },
   {
    "duration": 3,
    "start_time": "2023-03-17T11:58:12.249Z"
   },
   {
    "duration": 655,
    "start_time": "2023-03-17T11:58:12.254Z"
   },
   {
    "duration": 263,
    "start_time": "2023-03-17T11:58:12.910Z"
   },
   {
    "duration": 31,
    "start_time": "2023-03-17T11:58:13.174Z"
   },
   {
    "duration": 43,
    "start_time": "2023-03-17T11:58:13.207Z"
   },
   {
    "duration": 722,
    "start_time": "2023-03-17T11:58:13.252Z"
   },
   {
    "duration": 583,
    "start_time": "2023-03-17T11:58:13.982Z"
   },
   {
    "duration": 7,
    "start_time": "2023-03-17T11:58:14.566Z"
   },
   {
    "duration": 50,
    "start_time": "2023-03-17T11:58:14.579Z"
   },
   {
    "duration": 605,
    "start_time": "2023-03-17T11:58:14.630Z"
   },
   {
    "duration": 390,
    "start_time": "2023-03-17T11:58:15.236Z"
   },
   {
    "duration": 7,
    "start_time": "2023-03-17T11:58:15.627Z"
   },
   {
    "duration": 27,
    "start_time": "2023-03-17T11:58:15.635Z"
   },
   {
    "duration": 583,
    "start_time": "2023-03-17T11:58:15.663Z"
   },
   {
    "duration": 11,
    "start_time": "2023-03-17T11:58:16.248Z"
   },
   {
    "duration": 7,
    "start_time": "2023-03-17T11:58:16.260Z"
   },
   {
    "duration": 92,
    "start_time": "2023-03-17T11:58:16.279Z"
   },
   {
    "duration": 32,
    "start_time": "2023-03-17T11:58:16.373Z"
   },
   {
    "duration": 251,
    "start_time": "2023-03-17T11:58:16.407Z"
   },
   {
    "duration": 634,
    "start_time": "2023-03-17T11:58:16.659Z"
   },
   {
    "duration": 721,
    "start_time": "2023-03-17T11:58:17.294Z"
   },
   {
    "duration": 589,
    "start_time": "2023-03-17T11:58:18.016Z"
   },
   {
    "duration": 625,
    "start_time": "2023-03-17T11:58:18.606Z"
   },
   {
    "duration": 8,
    "start_time": "2023-03-17T11:58:19.232Z"
   },
   {
    "duration": 4,
    "start_time": "2023-03-17T11:58:19.243Z"
   },
   {
    "duration": 79,
    "start_time": "2023-03-17T11:58:19.249Z"
   },
   {
    "duration": 39,
    "start_time": "2023-03-17T11:58:19.330Z"
   },
   {
    "duration": 37,
    "start_time": "2023-03-17T11:58:19.384Z"
   },
   {
    "duration": 354,
    "start_time": "2023-03-17T11:58:23.946Z"
   },
   {
    "duration": 6,
    "start_time": "2023-03-17T12:06:45.911Z"
   },
   {
    "duration": 7,
    "start_time": "2023-03-17T12:07:50.665Z"
   },
   {
    "duration": 267,
    "start_time": "2023-03-17T12:08:14.203Z"
   },
   {
    "duration": 7,
    "start_time": "2023-03-17T12:08:46.533Z"
   },
   {
    "duration": 17,
    "start_time": "2023-03-17T12:14:17.499Z"
   },
   {
    "duration": 81,
    "start_time": "2023-03-17T12:14:28.546Z"
   },
   {
    "duration": 8,
    "start_time": "2023-03-17T12:16:53.817Z"
   },
   {
    "duration": 191,
    "start_time": "2023-03-17T12:17:53.214Z"
   },
   {
    "duration": 182,
    "start_time": "2023-03-17T12:18:08.982Z"
   },
   {
    "duration": 416,
    "start_time": "2023-03-17T12:19:09.719Z"
   },
   {
    "duration": 360,
    "start_time": "2023-03-17T12:19:27.975Z"
   },
   {
    "duration": 82,
    "start_time": "2023-03-17T12:19:44.736Z"
   },
   {
    "duration": 24,
    "start_time": "2023-03-17T12:27:05.779Z"
   },
   {
    "duration": 177,
    "start_time": "2023-03-17T12:33:26.527Z"
   },
   {
    "duration": 4,
    "start_time": "2023-03-17T12:53:02.650Z"
   },
   {
    "duration": 4,
    "start_time": "2023-03-17T12:56:42.308Z"
   },
   {
    "duration": 20,
    "start_time": "2023-03-17T13:03:11.018Z"
   },
   {
    "duration": 4,
    "start_time": "2023-03-17T13:03:45.112Z"
   },
   {
    "duration": 892,
    "start_time": "2023-03-17T13:03:45.118Z"
   },
   {
    "duration": 14,
    "start_time": "2023-03-17T13:03:46.011Z"
   },
   {
    "duration": 138,
    "start_time": "2023-03-17T13:03:46.026Z"
   },
   {
    "duration": 5,
    "start_time": "2023-03-17T13:03:46.165Z"
   },
   {
    "duration": 52,
    "start_time": "2023-03-17T13:03:46.171Z"
   },
   {
    "duration": 145,
    "start_time": "2023-03-17T13:03:46.224Z"
   },
   {
    "duration": 45,
    "start_time": "2023-03-17T13:03:46.371Z"
   },
   {
    "duration": 19,
    "start_time": "2023-03-17T13:03:46.420Z"
   },
   {
    "duration": 259,
    "start_time": "2023-03-17T13:03:46.441Z"
   },
   {
    "duration": 19,
    "start_time": "2023-03-17T13:03:46.701Z"
   },
   {
    "duration": 17,
    "start_time": "2023-03-17T13:03:46.722Z"
   },
   {
    "duration": 284,
    "start_time": "2023-03-17T13:03:46.741Z"
   },
   {
    "duration": 2,
    "start_time": "2023-03-17T13:03:47.027Z"
   },
   {
    "duration": 211,
    "start_time": "2023-03-17T13:03:47.030Z"
   },
   {
    "duration": 432,
    "start_time": "2023-03-17T13:03:47.243Z"
   },
   {
    "duration": 18,
    "start_time": "2023-03-17T13:03:47.679Z"
   },
   {
    "duration": 211,
    "start_time": "2023-03-17T13:03:47.699Z"
   },
   {
    "duration": 349,
    "start_time": "2023-03-17T13:03:47.912Z"
   },
   {
    "duration": 4,
    "start_time": "2023-03-17T13:03:48.262Z"
   },
   {
    "duration": 93,
    "start_time": "2023-03-17T13:03:48.267Z"
   },
   {
    "duration": 656,
    "start_time": "2023-03-17T13:03:48.361Z"
   },
   {
    "duration": 13,
    "start_time": "2023-03-17T13:03:49.018Z"
   },
   {
    "duration": 28,
    "start_time": "2023-03-17T13:03:49.037Z"
   },
   {
    "duration": 16,
    "start_time": "2023-03-17T13:03:49.090Z"
   },
   {
    "duration": 698,
    "start_time": "2023-03-17T13:03:49.107Z"
   },
   {
    "duration": 716,
    "start_time": "2023-03-17T13:03:49.807Z"
   },
   {
    "duration": 33,
    "start_time": "2023-03-17T13:03:50.525Z"
   },
   {
    "duration": 4,
    "start_time": "2023-03-17T13:03:50.560Z"
   },
   {
    "duration": 906,
    "start_time": "2023-03-17T13:03:50.579Z"
   },
   {
    "duration": 270,
    "start_time": "2023-03-17T13:03:51.486Z"
   },
   {
    "duration": 6,
    "start_time": "2023-03-17T13:03:51.758Z"
   },
   {
    "duration": 38,
    "start_time": "2023-03-17T13:03:51.765Z"
   },
   {
    "duration": 616,
    "start_time": "2023-03-17T13:03:51.805Z"
   },
   {
    "duration": 687,
    "start_time": "2023-03-17T13:03:52.423Z"
   },
   {
    "duration": 8,
    "start_time": "2023-03-17T13:03:53.111Z"
   },
   {
    "duration": 27,
    "start_time": "2023-03-17T13:03:53.120Z"
   },
   {
    "duration": 922,
    "start_time": "2023-03-17T13:03:53.148Z"
   },
   {
    "duration": 302,
    "start_time": "2023-03-17T13:03:54.071Z"
   },
   {
    "duration": 15,
    "start_time": "2023-03-17T13:03:54.381Z"
   },
   {
    "duration": 40,
    "start_time": "2023-03-17T13:03:54.397Z"
   },
   {
    "duration": 618,
    "start_time": "2023-03-17T13:03:54.439Z"
   },
   {
    "duration": 23,
    "start_time": "2023-03-17T13:03:55.058Z"
   },
   {
    "duration": 15,
    "start_time": "2023-03-17T13:03:55.082Z"
   },
   {
    "duration": 128,
    "start_time": "2023-03-17T13:03:55.098Z"
   },
   {
    "duration": 12,
    "start_time": "2023-03-17T13:03:55.228Z"
   },
   {
    "duration": 229,
    "start_time": "2023-03-17T13:03:55.242Z"
   },
   {
    "duration": 706,
    "start_time": "2023-03-17T13:03:55.474Z"
   },
   {
    "duration": 815,
    "start_time": "2023-03-17T13:03:56.182Z"
   },
   {
    "duration": 1041,
    "start_time": "2023-03-17T13:03:57.002Z"
   },
   {
    "duration": 724,
    "start_time": "2023-03-17T13:03:58.045Z"
   },
   {
    "duration": 24,
    "start_time": "2023-03-17T13:03:58.770Z"
   },
   {
    "duration": 14,
    "start_time": "2023-03-17T13:03:58.795Z"
   },
   {
    "duration": 91,
    "start_time": "2023-03-17T13:03:58.812Z"
   },
   {
    "duration": 57,
    "start_time": "2023-03-17T13:03:58.904Z"
   },
   {
    "duration": 46,
    "start_time": "2023-03-17T13:03:58.962Z"
   },
   {
    "duration": 311,
    "start_time": "2023-03-17T13:03:59.010Z"
   },
   {
    "duration": 11,
    "start_time": "2023-03-17T13:03:59.322Z"
   },
   {
    "duration": 10,
    "start_time": "2023-03-17T13:03:59.334Z"
   },
   {
    "duration": 35,
    "start_time": "2023-03-17T13:03:59.346Z"
   },
   {
    "duration": 9,
    "start_time": "2023-03-17T13:03:59.386Z"
   },
   {
    "duration": 41,
    "start_time": "2023-03-17T13:03:59.396Z"
   },
   {
    "duration": 31,
    "start_time": "2023-03-17T13:03:59.439Z"
   },
   {
    "duration": 41,
    "start_time": "2023-03-17T13:03:59.472Z"
   },
   {
    "duration": 19,
    "start_time": "2023-03-17T13:03:59.515Z"
   },
   {
    "duration": 21,
    "start_time": "2023-03-17T13:03:59.535Z"
   },
   {
    "duration": 71,
    "start_time": "2023-03-17T13:03:59.558Z"
   },
   {
    "duration": 276,
    "start_time": "2023-03-17T13:03:59.632Z"
   },
   {
    "duration": 380,
    "start_time": "2023-03-17T13:03:59.919Z"
   },
   {
    "duration": 18,
    "start_time": "2023-03-17T13:04:00.302Z"
   },
   {
    "duration": 86,
    "start_time": "2023-03-17T13:04:00.321Z"
   },
   {
    "duration": 26,
    "start_time": "2023-03-17T13:04:00.409Z"
   },
   {
    "duration": 17,
    "start_time": "2023-03-17T13:04:00.436Z"
   },
   {
    "duration": 21,
    "start_time": "2023-03-17T13:06:17.184Z"
   }
  ],
  "kernelspec": {
   "display_name": "Python 3 (ipykernel)",
   "language": "python",
   "name": "python3"
  },
  "language_info": {
   "codemirror_mode": {
    "name": "ipython",
    "version": 3
   },
   "file_extension": ".py",
   "mimetype": "text/x-python",
   "name": "python",
   "nbconvert_exporter": "python",
   "pygments_lexer": "ipython3",
   "version": "3.10.9"
  },
  "toc": {
   "base_numbering": 1,
   "nav_menu": {},
   "number_sections": true,
   "sideBar": true,
   "skip_h1_title": true,
   "title_cell": "Table of Contents",
   "title_sidebar": "Contents",
   "toc_cell": false,
   "toc_position": {},
   "toc_section_display": true,
   "toc_window_display": false
  }
 },
 "nbformat": 4,
 "nbformat_minor": 2
}
